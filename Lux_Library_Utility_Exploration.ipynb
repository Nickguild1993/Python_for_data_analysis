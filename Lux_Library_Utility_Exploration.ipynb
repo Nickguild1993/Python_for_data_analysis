{
  "nbformat": 4,
  "nbformat_minor": 0,
  "metadata": {
    "colab": {
      "provenance": [],
      "authorship_tag": "ABX9TyOLyqfoerZeFDRnXuRndNdV",
      "include_colab_link": true
    },
    "kernelspec": {
      "name": "python3",
      "display_name": "Python 3"
    },
    "language_info": {
      "name": "python"
    },
    "widgets": {
      "application/vnd.jupyter.widget-state+json": {
        "06675c13efc7415195d21472164e9985": {
          "model_module": "@jupyter-widgets/controls",
          "model_name": "ButtonModel",
          "model_module_version": "1.5.0",
          "state": {
            "_dom_classes": [],
            "_model_module": "@jupyter-widgets/controls",
            "_model_module_version": "1.5.0",
            "_model_name": "ButtonModel",
            "_view_count": null,
            "_view_module": "@jupyter-widgets/controls",
            "_view_module_version": "1.5.0",
            "_view_name": "ButtonView",
            "button_style": "",
            "description": "Toggle Pandas/Lux",
            "disabled": false,
            "icon": "",
            "layout": "IPY_MODEL_565db6ede220439d9e9022749142701e",
            "style": "IPY_MODEL_608a73cd96a64332b225893e926dcb6c",
            "tooltip": ""
          }
        },
        "565db6ede220439d9e9022749142701e": {
          "model_module": "@jupyter-widgets/base",
          "model_name": "LayoutModel",
          "model_module_version": "1.2.0",
          "state": {
            "_model_module": "@jupyter-widgets/base",
            "_model_module_version": "1.2.0",
            "_model_name": "LayoutModel",
            "_view_count": null,
            "_view_module": "@jupyter-widgets/base",
            "_view_module_version": "1.2.0",
            "_view_name": "LayoutView",
            "align_content": null,
            "align_items": null,
            "align_self": null,
            "border": null,
            "bottom": null,
            "display": null,
            "flex": null,
            "flex_flow": null,
            "grid_area": null,
            "grid_auto_columns": null,
            "grid_auto_flow": null,
            "grid_auto_rows": null,
            "grid_column": null,
            "grid_gap": null,
            "grid_row": null,
            "grid_template_areas": null,
            "grid_template_columns": null,
            "grid_template_rows": null,
            "height": null,
            "justify_content": null,
            "justify_items": null,
            "left": null,
            "margin": null,
            "max_height": null,
            "max_width": null,
            "min_height": null,
            "min_width": null,
            "object_fit": null,
            "object_position": null,
            "order": null,
            "overflow": null,
            "overflow_x": null,
            "overflow_y": null,
            "padding": null,
            "right": null,
            "top": "5px",
            "visibility": null,
            "width": "140px"
          }
        },
        "608a73cd96a64332b225893e926dcb6c": {
          "model_module": "@jupyter-widgets/controls",
          "model_name": "ButtonStyleModel",
          "model_module_version": "1.5.0",
          "state": {
            "_model_module": "@jupyter-widgets/controls",
            "_model_module_version": "1.5.0",
            "_model_name": "ButtonStyleModel",
            "_view_count": null,
            "_view_module": "@jupyter-widgets/base",
            "_view_module_version": "1.2.0",
            "_view_name": "StyleView",
            "button_color": null,
            "font_weight": ""
          }
        },
        "f288a5e1b3b54311a917734994596d90": {
          "model_module": "@jupyter-widgets/output",
          "model_name": "OutputModel",
          "model_module_version": "1.0.0",
          "state": {
            "_dom_classes": [],
            "_model_module": "@jupyter-widgets/output",
            "_model_module_version": "1.0.0",
            "_model_name": "OutputModel",
            "_view_count": null,
            "_view_module": "@jupyter-widgets/output",
            "_view_module_version": "1.0.0",
            "_view_name": "OutputView",
            "layout": "IPY_MODEL_a5a34a7c7f0e47999357c1189c83fd4b",
            "msg_id": "",
            "outputs": [
              {
                "output_type": "display_data",
                "data": {
                  "text/plain": "   HPIRank      Country                     SubRegion  AverageLifeExpectancy  \\\n0      110  Afghanistan  Middle East and North Africa                   59.7   \n1       13      Albania                Post-communist                   77.3   \n2       30      Algeria  Middle East and North Africa                   74.3   \n\n   AverageWellBeing  HappyLifeYears  Footprint  InequalityOfOutcomes  \\\n0               3.8            12.4        0.8                  0.43   \n1               5.5            34.4        2.2                  0.17   \n2               5.6            30.5        2.1                  0.24   \n\n   InequalityAdjustedLifeExpectancy  InequalityAdjustedWellbeing  \\\n0                              38.3                          3.4   \n1                              69.7                          5.1   \n2                              60.5                          5.2   \n\n   HappyPlanetIndex  GDPPerCapita  Population  \n0              20.2           691    29726803  \n1              36.8          4247     2900489  \n2              33.3          5584    37439427  ",
                  "text/html": "\n  <div id=\"df-fdda0364-b17f-4b56-abcd-370dd9f173eb\">\n    <div class=\"colab-df-container\">\n      <div>\n<style scoped>\n    .dataframe tbody tr th:only-of-type {\n        vertical-align: middle;\n    }\n\n    .dataframe tbody tr th {\n        vertical-align: top;\n    }\n\n    .dataframe thead th {\n        text-align: right;\n    }\n</style>\n<table border=\"1\" class=\"dataframe\">\n  <thead>\n    <tr style=\"text-align: right;\">\n      <th></th>\n      <th>HPIRank</th>\n      <th>Country</th>\n      <th>SubRegion</th>\n      <th>AverageLifeExpectancy</th>\n      <th>AverageWellBeing</th>\n      <th>HappyLifeYears</th>\n      <th>Footprint</th>\n      <th>InequalityOfOutcomes</th>\n      <th>InequalityAdjustedLifeExpectancy</th>\n      <th>InequalityAdjustedWellbeing</th>\n      <th>HappyPlanetIndex</th>\n      <th>GDPPerCapita</th>\n      <th>Population</th>\n    </tr>\n  </thead>\n  <tbody>\n    <tr>\n      <th>0</th>\n      <td>110</td>\n      <td>Afghanistan</td>\n      <td>Middle East and North Africa</td>\n      <td>59.7</td>\n      <td>3.8</td>\n      <td>12.4</td>\n      <td>0.8</td>\n      <td>0.43</td>\n      <td>38.3</td>\n      <td>3.4</td>\n      <td>20.2</td>\n      <td>691</td>\n      <td>29726803</td>\n    </tr>\n    <tr>\n      <th>1</th>\n      <td>13</td>\n      <td>Albania</td>\n      <td>Post-communist</td>\n      <td>77.3</td>\n      <td>5.5</td>\n      <td>34.4</td>\n      <td>2.2</td>\n      <td>0.17</td>\n      <td>69.7</td>\n      <td>5.1</td>\n      <td>36.8</td>\n      <td>4247</td>\n      <td>2900489</td>\n    </tr>\n    <tr>\n      <th>2</th>\n      <td>30</td>\n      <td>Algeria</td>\n      <td>Middle East and North Africa</td>\n      <td>74.3</td>\n      <td>5.6</td>\n      <td>30.5</td>\n      <td>2.1</td>\n      <td>0.24</td>\n      <td>60.5</td>\n      <td>5.2</td>\n      <td>33.3</td>\n      <td>5584</td>\n      <td>37439427</td>\n    </tr>\n  </tbody>\n</table>\n</div>\n      <button class=\"colab-df-convert\" onclick=\"convertToInteractive('df-fdda0364-b17f-4b56-abcd-370dd9f173eb')\"\n              title=\"Convert this dataframe to an interactive table.\"\n              style=\"display:none;\">\n        \n  <svg xmlns=\"http://www.w3.org/2000/svg\" height=\"24px\"viewBox=\"0 0 24 24\"\n       width=\"24px\">\n    <path d=\"M0 0h24v24H0V0z\" fill=\"none\"/>\n    <path d=\"M18.56 5.44l.94 2.06.94-2.06 2.06-.94-2.06-.94-.94-2.06-.94 2.06-2.06.94zm-11 1L8.5 8.5l.94-2.06 2.06-.94-2.06-.94L8.5 2.5l-.94 2.06-2.06.94zm10 10l.94 2.06.94-2.06 2.06-.94-2.06-.94-.94-2.06-.94 2.06-2.06.94z\"/><path d=\"M17.41 7.96l-1.37-1.37c-.4-.4-.92-.59-1.43-.59-.52 0-1.04.2-1.43.59L10.3 9.45l-7.72 7.72c-.78.78-.78 2.05 0 2.83L4 21.41c.39.39.9.59 1.41.59.51 0 1.02-.2 1.41-.59l7.78-7.78 2.81-2.81c.8-.78.8-2.07 0-2.86zM5.41 20L4 18.59l7.72-7.72 1.47 1.35L5.41 20z\"/>\n  </svg>\n      </button>\n      \n  <style>\n    .colab-df-container {\n      display:flex;\n      flex-wrap:wrap;\n      gap: 12px;\n    }\n\n    .colab-df-convert {\n      background-color: #E8F0FE;\n      border: none;\n      border-radius: 50%;\n      cursor: pointer;\n      display: none;\n      fill: #1967D2;\n      height: 32px;\n      padding: 0 0 0 0;\n      width: 32px;\n    }\n\n    .colab-df-convert:hover {\n      background-color: #E2EBFA;\n      box-shadow: 0px 1px 2px rgba(60, 64, 67, 0.3), 0px 1px 3px 1px rgba(60, 64, 67, 0.15);\n      fill: #174EA6;\n    }\n\n    [theme=dark] .colab-df-convert {\n      background-color: #3B4455;\n      fill: #D2E3FC;\n    }\n\n    [theme=dark] .colab-df-convert:hover {\n      background-color: #434B5C;\n      box-shadow: 0px 1px 3px 1px rgba(0, 0, 0, 0.15);\n      filter: drop-shadow(0px 1px 2px rgba(0, 0, 0, 0.3));\n      fill: #FFFFFF;\n    }\n  </style>\n\n      <script>\n        const buttonEl =\n          document.querySelector('#df-fdda0364-b17f-4b56-abcd-370dd9f173eb button.colab-df-convert');\n        buttonEl.style.display =\n          google.colab.kernel.accessAllowed ? 'block' : 'none';\n\n        async function convertToInteractive(key) {\n          const element = document.querySelector('#df-fdda0364-b17f-4b56-abcd-370dd9f173eb');\n          const dataTable =\n            await google.colab.kernel.invokeFunction('convertToInteractive',\n                                                     [key], {});\n          if (!dataTable) return;\n\n          const docLinkHtml = 'Like what you see? Visit the ' +\n            '<a target=\"_blank\" href=https://colab.research.google.com/notebooks/data_table.ipynb>data table notebook</a>'\n            + ' to learn more about interactive tables.';\n          element.innerHTML = '';\n          dataTable['output_type'] = 'display_data';\n          await google.colab.output.renderOutput(dataTable, element);\n          const docLink = document.createElement('div');\n          docLink.innerHTML = docLinkHtml;\n          element.appendChild(docLink);\n        }\n      </script>\n    </div>\n  </div>\n  ",
                  "application/vnd.google.colaboratory.module+javascript": "\n      import \"https://ssl.gstatic.com/colaboratory/data_table/fb998edc550c7947/data_table.js\";\n\n      window.createDataTable({\n        data: [[{\n            'v': 0,\n            'f': \"0\",\n        },\n{\n            'v': 110,\n            'f': \"110\",\n        },\n\"Afghanistan\",\n\"Middle East and North Africa\",\n{\n            'v': 59.7,\n            'f': \"59.7\",\n        },\n{\n            'v': 3.8,\n            'f': \"3.8\",\n        },\n{\n            'v': 12.4,\n            'f': \"12.4\",\n        },\n{\n            'v': 0.8,\n            'f': \"0.8\",\n        },\n{\n            'v': 0.43,\n            'f': \"0.43\",\n        },\n{\n            'v': 38.3,\n            'f': \"38.3\",\n        },\n{\n            'v': 3.4,\n            'f': \"3.4\",\n        },\n{\n            'v': 20.2,\n            'f': \"20.2\",\n        },\n{\n            'v': 691,\n            'f': \"691\",\n        },\n{\n            'v': 29726803,\n            'f': \"29726803\",\n        }],\n [{\n            'v': 1,\n            'f': \"1\",\n        },\n{\n            'v': 13,\n            'f': \"13\",\n        },\n\"Albania\",\n\"Post-communist\",\n{\n            'v': 77.3,\n            'f': \"77.3\",\n        },\n{\n            'v': 5.5,\n            'f': \"5.5\",\n        },\n{\n            'v': 34.4,\n            'f': \"34.4\",\n        },\n{\n            'v': 2.2,\n            'f': \"2.2\",\n        },\n{\n            'v': 0.17,\n            'f': \"0.17\",\n        },\n{\n            'v': 69.7,\n            'f': \"69.7\",\n        },\n{\n            'v': 5.1,\n            'f': \"5.1\",\n        },\n{\n            'v': 36.8,\n            'f': \"36.8\",\n        },\n{\n            'v': 4247,\n            'f': \"4247\",\n        },\n{\n            'v': 2900489,\n            'f': \"2900489\",\n        }],\n [{\n            'v': 2,\n            'f': \"2\",\n        },\n{\n            'v': 30,\n            'f': \"30\",\n        },\n\"Algeria\",\n\"Middle East and North Africa\",\n{\n            'v': 74.3,\n            'f': \"74.3\",\n        },\n{\n            'v': 5.6,\n            'f': \"5.6\",\n        },\n{\n            'v': 30.5,\n            'f': \"30.5\",\n        },\n{\n            'v': 2.1,\n            'f': \"2.1\",\n        },\n{\n            'v': 0.24,\n            'f': \"0.24\",\n        },\n{\n            'v': 60.5,\n            'f': \"60.5\",\n        },\n{\n            'v': 5.2,\n            'f': \"5.2\",\n        },\n{\n            'v': 33.3,\n            'f': \"33.3\",\n        },\n{\n            'v': 5584,\n            'f': \"5584\",\n        },\n{\n            'v': 37439427,\n            'f': \"37439427\",\n        }]],\n        columns: [[\"number\", \"index\"], [\"number\", \"HPIRank\"], [\"string\", \"Country\"], [\"string\", \"SubRegion\"], [\"number\", \"AverageLifeExpectancy\"], [\"number\", \"AverageWellBeing\"], [\"number\", \"HappyLifeYears\"], [\"number\", \"Footprint\"], [\"number\", \"InequalityOfOutcomes\"], [\"number\", \"InequalityAdjustedLifeExpectancy\"], [\"number\", \"InequalityAdjustedWellbeing\"], [\"number\", \"HappyPlanetIndex\"], [\"number\", \"GDPPerCapita\"], [\"number\", \"Population\"]],\n        columnOptions: [{\"width\": \"1px\", \"className\": \"index_column\"}],\n        rowsPerPage: 25,\n        helpUrl: \"https://colab.research.google.com/notebooks/data_table.ipynb\",\n        suppressOutputScrolling: true,\n        minimumWidth: undefined,\n      });\n    "
                },
                "metadata": {}
              }
            ]
          }
        },
        "a5a34a7c7f0e47999357c1189c83fd4b": {
          "model_module": "@jupyter-widgets/base",
          "model_name": "LayoutModel",
          "model_module_version": "1.2.0",
          "state": {
            "_model_module": "@jupyter-widgets/base",
            "_model_module_version": "1.2.0",
            "_model_name": "LayoutModel",
            "_view_count": null,
            "_view_module": "@jupyter-widgets/base",
            "_view_module_version": "1.2.0",
            "_view_name": "LayoutView",
            "align_content": null,
            "align_items": null,
            "align_self": null,
            "border": null,
            "bottom": null,
            "display": null,
            "flex": null,
            "flex_flow": null,
            "grid_area": null,
            "grid_auto_columns": null,
            "grid_auto_flow": null,
            "grid_auto_rows": null,
            "grid_column": null,
            "grid_gap": null,
            "grid_row": null,
            "grid_template_areas": null,
            "grid_template_columns": null,
            "grid_template_rows": null,
            "height": null,
            "justify_content": null,
            "justify_items": null,
            "left": null,
            "margin": null,
            "max_height": null,
            "max_width": null,
            "min_height": null,
            "min_width": null,
            "object_fit": null,
            "object_position": null,
            "order": null,
            "overflow": null,
            "overflow_x": null,
            "overflow_y": null,
            "padding": null,
            "right": null,
            "top": null,
            "visibility": null,
            "width": null
          }
        },
        "c4f1221819c9438e91d9fa9e79c5137b": {
          "model_module": "luxwidget",
          "model_name": "LuxModel",
          "model_module_version": "0.1.11",
          "state": {
            "_dom_classes": [],
            "_model_module": "luxwidget",
            "_model_module_version": "0.1.11",
            "_model_name": "LuxModel",
            "_selectedVisIdxs": {},
            "_view_count": null,
            "_view_module": "luxwidget",
            "_view_module_version": "0.1.11",
            "_view_name": "LuxWidgetView",
            "all_column": false,
            "current_vis": {
              "config": {
                "view": {
                  "continuousWidth": 400,
                  "continuousHeight": 300
                },
                "axis": {
                  "labelColor": "#505050",
                  "labelFont": "Helvetica Neue",
                  "labelFontSize": 9,
                  "labelFontWeight": 400,
                  "titleFont": "Helvetica Neue",
                  "titleFontSize": 11,
                  "titleFontWeight": 500
                },
                "legend": {
                  "labelFont": "Helvetica Neue",
                  "labelFontSize": 9,
                  "labelFontWeight": 400,
                  "titleFont": "Helvetica Neue",
                  "titleFontSize": 10,
                  "titleFontWeight": 500
                },
                "mark": {
                  "tooltip": {
                    "content": "encoding"
                  }
                },
                "title": {
                  "font": "Helvetica Neue",
                  "fontSize": 13,
                  "fontWeight": 500
                }
              },
              "layer": [
                {
                  "data": {
                    "url": "https://cdn.jsdelivr.net/npm/vega-datasets@v1.29.0/data/world-110m.json",
                    "format": {
                      "feature": "countries",
                      "type": "topojson"
                    }
                  },
                  "mark": {
                    "type": "geoshape",
                    "fill": "lightgray",
                    "stroke": "white"
                  },
                  "projection": {
                    "type": "equirectangular"
                  }
                },
                {
                  "data": {
                    "url": "https://cdn.jsdelivr.net/npm/vega-datasets@v1.29.0/data/world-110m.json",
                    "format": {
                      "feature": "countries",
                      "type": "topojson"
                    }
                  },
                  "mark": "geoshape",
                  "encoding": {
                    "color": {
                      "field": "InequalityOfOutcomes",
                      "type": "quantitative"
                    }
                  },
                  "projection": {
                    "type": "equirectangular"
                  },
                  "title": "Mean of InequalityOfOutcomes across World",
                  "transform": [
                    {
                      "lookup": "id",
                      "from": {
                        "data": {
                          "name": "data-f157886088af030e596362bbe71beda6"
                        },
                        "key": "Country",
                        "fields": [
                          "InequalityOfOutcomes"
                        ]
                      }
                    }
                  ]
                }
              ],
              "height": 150,
              "width": 200,
              "$schema": "https://vega.github.io/schema/vega-lite/v4.17.0.json",
              "datasets": {
                "data-f157886088af030e596362bbe71beda6": [
                  {
                    "Country": 4,
                    "InequalityOfOutcomes": 0.43
                  },
                  {
                    "Country": 8,
                    "InequalityOfOutcomes": 0.17
                  },
                  {
                    "Country": 12,
                    "InequalityOfOutcomes": 0.24
                  },
                  {
                    "Country": 32,
                    "InequalityOfOutcomes": 0.16
                  },
                  {
                    "Country": 51,
                    "InequalityOfOutcomes": 0.22
                  },
                  {
                    "Country": 36,
                    "InequalityOfOutcomes": 0.08
                  },
                  {
                    "Country": 40,
                    "InequalityOfOutcomes": 0.07
                  },
                  {
                    "Country": 50,
                    "InequalityOfOutcomes": 0.27
                  },
                  {
                    "Country": 112,
                    "InequalityOfOutcomes": 0.13
                  },
                  {
                    "Country": 56,
                    "InequalityOfOutcomes": 0.09
                  },
                  {
                    "Country": 84,
                    "InequalityOfOutcomes": 0.18
                  },
                  {
                    "Country": 204,
                    "InequalityOfOutcomes": 0.44
                  },
                  {
                    "Country": 64,
                    "InequalityOfOutcomes": 0.27
                  },
                  {
                    "Country": "Bolivia",
                    "InequalityOfOutcomes": 0.35
                  },
                  {
                    "Country": 70,
                    "InequalityOfOutcomes": 0.19
                  },
                  {
                    "Country": 72,
                    "InequalityOfOutcomes": 0.28
                  },
                  {
                    "Country": 76,
                    "InequalityOfOutcomes": 0.22
                  },
                  {
                    "Country": 100,
                    "InequalityOfOutcomes": 0.19
                  },
                  {
                    "Country": 854,
                    "InequalityOfOutcomes": 0.43
                  },
                  {
                    "Country": 108,
                    "InequalityOfOutcomes": 0.48
                  },
                  {
                    "Country": 116,
                    "InequalityOfOutcomes": 0.28
                  },
                  {
                    "Country": 120,
                    "InequalityOfOutcomes": 0.47
                  },
                  {
                    "Country": 124,
                    "InequalityOfOutcomes": 0.09
                  },
                  {
                    "Country": 148,
                    "InequalityOfOutcomes": 0.51
                  },
                  {
                    "Country": 152,
                    "InequalityOfOutcomes": 0.14
                  },
                  {
                    "Country": 156,
                    "InequalityOfOutcomes": 0.17
                  },
                  {
                    "Country": 170,
                    "InequalityOfOutcomes": 0.24
                  },
                  {
                    "Country": 174,
                    "InequalityOfOutcomes": 0.36
                  },
                  {
                    "Country": 188,
                    "InequalityOfOutcomes": 0.15
                  },
                  {
                    "Country": "Cote d'Ivoire",
                    "InequalityOfOutcomes": 0.45
                  },
                  {
                    "Country": 191,
                    "InequalityOfOutcomes": 0.12
                  },
                  {
                    "Country": 196,
                    "InequalityOfOutcomes": 0.12
                  },
                  {
                    "Country": "Czech Republic",
                    "InequalityOfOutcomes": 0.09
                  },
                  {
                    "Country": 208,
                    "InequalityOfOutcomes": 0.07
                  },
                  {
                    "Country": 262,
                    "InequalityOfOutcomes": 0.42
                  },
                  {
                    "Country": 214,
                    "InequalityOfOutcomes": 0.3
                  },
                  {
                    "Country": 218,
                    "InequalityOfOutcomes": 0.22
                  },
                  {
                    "Country": 818,
                    "InequalityOfOutcomes": 0.23
                  },
                  {
                    "Country": 222,
                    "InequalityOfOutcomes": 0.22
                  },
                  {
                    "Country": 233,
                    "InequalityOfOutcomes": 0.12
                  },
                  {
                    "Country": 231,
                    "InequalityOfOutcomes": 0.36
                  },
                  {
                    "Country": 246,
                    "InequalityOfOutcomes": 0.06
                  },
                  {
                    "Country": 250,
                    "InequalityOfOutcomes": 0.09
                  },
                  {
                    "Country": 266,
                    "InequalityOfOutcomes": 0.36
                  },
                  {
                    "Country": 268,
                    "InequalityOfOutcomes": 0.2
                  },
                  {
                    "Country": 276,
                    "InequalityOfOutcomes": 0.08
                  },
                  {
                    "Country": 288,
                    "InequalityOfOutcomes": 0.38
                  },
                  {
                    "Country": 300,
                    "InequalityOfOutcomes": 0.16
                  },
                  {
                    "Country": 320,
                    "InequalityOfOutcomes": 0.27
                  },
                  {
                    "Country": 324,
                    "InequalityOfOutcomes": 0.42
                  },
                  {
                    "Country": 332,
                    "InequalityOfOutcomes": 0.37
                  },
                  {
                    "Country": 340,
                    "InequalityOfOutcomes": 0.31
                  },
                  {
                    "Country": 344,
                    "InequalityOfOutcomes": 0.1
                  },
                  {
                    "Country": 348,
                    "InequalityOfOutcomes": 0.15
                  },
                  {
                    "Country": 352,
                    "InequalityOfOutcomes": 0.05
                  },
                  {
                    "Country": 356,
                    "InequalityOfOutcomes": 0.31
                  },
                  {
                    "Country": 360,
                    "InequalityOfOutcomes": 0.21
                  },
                  {
                    "Country": "Iran",
                    "InequalityOfOutcomes": 0.23
                  },
                  {
                    "Country": 368,
                    "InequalityOfOutcomes": 0.27
                  },
                  {
                    "Country": 372,
                    "InequalityOfOutcomes": 0.08
                  },
                  {
                    "Country": 376,
                    "InequalityOfOutcomes": 0.08
                  },
                  {
                    "Country": 380,
                    "InequalityOfOutcomes": 0.12
                  },
                  {
                    "Country": 388,
                    "InequalityOfOutcomes": 0.21
                  },
                  {
                    "Country": 392,
                    "InequalityOfOutcomes": 0.09
                  },
                  {
                    "Country": 398,
                    "InequalityOfOutcomes": 0.18
                  },
                  {
                    "Country": 404,
                    "InequalityOfOutcomes": 0.38
                  },
                  {
                    "Country": 417,
                    "InequalityOfOutcomes": 0.18
                  },
                  {
                    "Country": 428,
                    "InequalityOfOutcomes": 0.14
                  },
                  {
                    "Country": 422,
                    "InequalityOfOutcomes": 0.19
                  },
                  {
                    "Country": 426,
                    "InequalityOfOutcomes": 0.42
                  },
                  {
                    "Country": 430,
                    "InequalityOfOutcomes": 0.38
                  },
                  {
                    "Country": 440,
                    "InequalityOfOutcomes": 0.11
                  },
                  {
                    "Country": 442,
                    "InequalityOfOutcomes": 0.07
                  },
                  {
                    "Country": "Macedonia",
                    "InequalityOfOutcomes": 0.18
                  },
                  {
                    "Country": 454,
                    "InequalityOfOutcomes": 0.45
                  },
                  {
                    "Country": 458,
                    "InequalityOfOutcomes": 0.1
                  },
                  {
                    "Country": 470,
                    "InequalityOfOutcomes": 0.13
                  },
                  {
                    "Country": 478,
                    "InequalityOfOutcomes": 0.37
                  },
                  {
                    "Country": 480,
                    "InequalityOfOutcomes": 0.17
                  },
                  {
                    "Country": 484,
                    "InequalityOfOutcomes": 0.19
                  },
                  {
                    "Country": 496,
                    "InequalityOfOutcomes": 0.22
                  },
                  {
                    "Country": 499,
                    "InequalityOfOutcomes": 0.16
                  },
                  {
                    "Country": 504,
                    "InequalityOfOutcomes": 0.25
                  },
                  {
                    "Country": 508,
                    "InequalityOfOutcomes": 0.43
                  },
                  {
                    "Country": 104,
                    "InequalityOfOutcomes": 0.32
                  },
                  {
                    "Country": 516,
                    "InequalityOfOutcomes": 0.26
                  },
                  {
                    "Country": 524,
                    "InequalityOfOutcomes": 0.27
                  },
                  {
                    "Country": 528,
                    "InequalityOfOutcomes": 0.04
                  },
                  {
                    "Country": 554,
                    "InequalityOfOutcomes": 0.08
                  },
                  {
                    "Country": 558,
                    "InequalityOfOutcomes": 0.25
                  },
                  {
                    "Country": 562,
                    "InequalityOfOutcomes": 0.4
                  },
                  {
                    "Country": 566,
                    "InequalityOfOutcomes": 0.44
                  },
                  {
                    "Country": 578,
                    "InequalityOfOutcomes": 0.07
                  },
                  {
                    "Country": 512,
                    "InequalityOfOutcomes": 0.13
                  },
                  {
                    "Country": 586,
                    "InequalityOfOutcomes": 0.4
                  },
                  {
                    "Country": 275,
                    "InequalityOfOutcomes": 0.24
                  },
                  {
                    "Country": 591,
                    "InequalityOfOutcomes": 0.19
                  },
                  {
                    "Country": 600,
                    "InequalityOfOutcomes": 0.22
                  },
                  {
                    "Country": 604,
                    "InequalityOfOutcomes": 0.21
                  },
                  {
                    "Country": 608,
                    "InequalityOfOutcomes": 0.26
                  },
                  {
                    "Country": 616,
                    "InequalityOfOutcomes": 0.11
                  },
                  {
                    "Country": 620,
                    "InequalityOfOutcomes": 0.16
                  },
                  {
                    "Country": "Republic of Congo",
                    "InequalityOfOutcomes": 0.4
                  },
                  {
                    "Country": 642,
                    "InequalityOfOutcomes": 0.19
                  },
                  {
                    "Country": "Russia",
                    "InequalityOfOutcomes": 0.16
                  },
                  {
                    "Country": 646,
                    "InequalityOfOutcomes": 0.37
                  },
                  {
                    "Country": 686,
                    "InequalityOfOutcomes": 0.33
                  },
                  {
                    "Country": 688,
                    "InequalityOfOutcomes": 0.19
                  },
                  {
                    "Country": 694,
                    "InequalityOfOutcomes": 0.5
                  },
                  {
                    "Country": 703,
                    "InequalityOfOutcomes": 0.13
                  },
                  {
                    "Country": 705,
                    "InequalityOfOutcomes": 0.1
                  },
                  {
                    "Country": 710,
                    "InequalityOfOutcomes": 0.33
                  },
                  {
                    "Country": "South Korea",
                    "InequalityOfOutcomes": 0.11
                  },
                  {
                    "Country": 724,
                    "InequalityOfOutcomes": 0.1
                  },
                  {
                    "Country": 144,
                    "InequalityOfOutcomes": 0.17
                  },
                  {
                    "Country": 740,
                    "InequalityOfOutcomes": 0.19
                  },
                  {
                    "Country": "Swaziland",
                    "InequalityOfOutcomes": 0.41
                  },
                  {
                    "Country": 752,
                    "InequalityOfOutcomes": 0.06
                  },
                  {
                    "Country": 756,
                    "InequalityOfOutcomes": 0.06
                  },
                  {
                    "Country": "Syria",
                    "InequalityOfOutcomes": 0.3
                  },
                  {
                    "Country": 762,
                    "InequalityOfOutcomes": 0.26
                  },
                  {
                    "Country": "Tanzania",
                    "InequalityOfOutcomes": 0.33
                  },
                  {
                    "Country": 764,
                    "InequalityOfOutcomes": 0.15
                  },
                  {
                    "Country": 768,
                    "InequalityOfOutcomes": 0.43
                  },
                  {
                    "Country": 780,
                    "InequalityOfOutcomes": 0.21
                  },
                  {
                    "Country": 788,
                    "InequalityOfOutcomes": 0.22
                  },
                  {
                    "Country": "Turkey",
                    "InequalityOfOutcomes": 0.19
                  },
                  {
                    "Country": 795,
                    "InequalityOfOutcomes": 0.31
                  },
                  {
                    "Country": 800,
                    "InequalityOfOutcomes": 0.41
                  },
                  {
                    "Country": 804,
                    "InequalityOfOutcomes": 0.17
                  },
                  {
                    "Country": "United Kingdom",
                    "InequalityOfOutcomes": 0.09
                  },
                  {
                    "Country": 840,
                    "InequalityOfOutcomes": 0.13
                  },
                  {
                    "Country": 858,
                    "InequalityOfOutcomes": 0.18
                  },
                  {
                    "Country": 860,
                    "InequalityOfOutcomes": 0.3
                  },
                  {
                    "Country": 548,
                    "InequalityOfOutcomes": 0.22
                  },
                  {
                    "Country": "Venezuela",
                    "InequalityOfOutcomes": 0.19
                  },
                  {
                    "Country": "Vietnam",
                    "InequalityOfOutcomes": 0.19
                  },
                  {
                    "Country": 887,
                    "InequalityOfOutcomes": 0.39
                  },
                  {
                    "Country": 894,
                    "InequalityOfOutcomes": 0.41
                  },
                  {
                    "Country": 716,
                    "InequalityOfOutcomes": 0.37
                  }
                ]
              },
              "vislib": "vegalite",
              "allcols": false
            },
            "data": [],
            "deletedIndices": {},
            "intent": "",
            "layout": "IPY_MODEL_dddb19fb12364d53be5de20864c4b921",
            "message": "",
            "plotting_scale": 1,
            "recommendations": [],
            "selectedIntentIndex": {}
          }
        },
        "dddb19fb12364d53be5de20864c4b921": {
          "model_module": "@jupyter-widgets/base",
          "model_name": "LayoutModel",
          "model_module_version": "1.2.0",
          "state": {
            "_model_module": "@jupyter-widgets/base",
            "_model_module_version": "1.2.0",
            "_model_name": "LayoutModel",
            "_view_count": null,
            "_view_module": "@jupyter-widgets/base",
            "_view_module_version": "1.2.0",
            "_view_name": "LayoutView",
            "align_content": null,
            "align_items": null,
            "align_self": null,
            "border": null,
            "bottom": null,
            "display": null,
            "flex": null,
            "flex_flow": null,
            "grid_area": null,
            "grid_auto_columns": null,
            "grid_auto_flow": null,
            "grid_auto_rows": null,
            "grid_column": null,
            "grid_gap": null,
            "grid_row": null,
            "grid_template_areas": null,
            "grid_template_columns": null,
            "grid_template_rows": null,
            "height": null,
            "justify_content": null,
            "justify_items": null,
            "left": null,
            "margin": null,
            "max_height": null,
            "max_width": null,
            "min_height": null,
            "min_width": null,
            "object_fit": null,
            "object_position": null,
            "order": null,
            "overflow": null,
            "overflow_x": null,
            "overflow_y": null,
            "padding": null,
            "right": null,
            "top": null,
            "visibility": null,
            "width": null
          }
        },
        "23f30dd518434208a32ef5da13c3c30c": {
          "model_module": "@jupyter-widgets/controls",
          "model_name": "ButtonModel",
          "model_module_version": "1.5.0",
          "state": {
            "_dom_classes": [],
            "_model_module": "@jupyter-widgets/controls",
            "_model_module_version": "1.5.0",
            "_model_name": "ButtonModel",
            "_view_count": null,
            "_view_module": "@jupyter-widgets/controls",
            "_view_module_version": "1.5.0",
            "_view_name": "ButtonView",
            "button_style": "",
            "description": "Toggle Pandas/Lux",
            "disabled": false,
            "icon": "",
            "layout": "IPY_MODEL_af453b82243847c597dbb4b2a7da1ddf",
            "style": "IPY_MODEL_9cabc146ac1d41cda101bf46837a4a7f",
            "tooltip": ""
          }
        },
        "af453b82243847c597dbb4b2a7da1ddf": {
          "model_module": "@jupyter-widgets/base",
          "model_name": "LayoutModel",
          "model_module_version": "1.2.0",
          "state": {
            "_model_module": "@jupyter-widgets/base",
            "_model_module_version": "1.2.0",
            "_model_name": "LayoutModel",
            "_view_count": null,
            "_view_module": "@jupyter-widgets/base",
            "_view_module_version": "1.2.0",
            "_view_name": "LayoutView",
            "align_content": null,
            "align_items": null,
            "align_self": null,
            "border": null,
            "bottom": null,
            "display": null,
            "flex": null,
            "flex_flow": null,
            "grid_area": null,
            "grid_auto_columns": null,
            "grid_auto_flow": null,
            "grid_auto_rows": null,
            "grid_column": null,
            "grid_gap": null,
            "grid_row": null,
            "grid_template_areas": null,
            "grid_template_columns": null,
            "grid_template_rows": null,
            "height": null,
            "justify_content": null,
            "justify_items": null,
            "left": null,
            "margin": null,
            "max_height": null,
            "max_width": null,
            "min_height": null,
            "min_width": null,
            "object_fit": null,
            "object_position": null,
            "order": null,
            "overflow": null,
            "overflow_x": null,
            "overflow_y": null,
            "padding": null,
            "right": null,
            "top": "5px",
            "visibility": null,
            "width": "140px"
          }
        },
        "9cabc146ac1d41cda101bf46837a4a7f": {
          "model_module": "@jupyter-widgets/controls",
          "model_name": "ButtonStyleModel",
          "model_module_version": "1.5.0",
          "state": {
            "_model_module": "@jupyter-widgets/controls",
            "_model_module_version": "1.5.0",
            "_model_name": "ButtonStyleModel",
            "_view_count": null,
            "_view_module": "@jupyter-widgets/base",
            "_view_module_version": "1.2.0",
            "_view_name": "StyleView",
            "button_color": null,
            "font_weight": ""
          }
        },
        "88a26380a8d242019646535e260eeb47": {
          "model_module": "@jupyter-widgets/output",
          "model_name": "OutputModel",
          "model_module_version": "1.0.0",
          "state": {
            "_dom_classes": [],
            "_model_module": "@jupyter-widgets/output",
            "_model_module_version": "1.0.0",
            "_model_name": "OutputModel",
            "_view_count": null,
            "_view_module": "@jupyter-widgets/output",
            "_view_module_version": "1.0.0",
            "_view_name": "OutputView",
            "layout": "IPY_MODEL_2d949ddfe0b046a5976100c374ae3c37",
            "msg_id": "",
            "outputs": [
              {
                "output_type": "display_data",
                "data": {
                  "text/plain": "LuxWidget(current_vis={'config': {'view': {'continuousWidth': 400, 'continuousHeight': 300}, 'axis': {'labelCo…",
                  "application/vnd.jupyter.widget-view+json": {
                    "version_major": 2,
                    "version_minor": 0,
                    "model_id": "5459bc5068d7440ead589c5ed2114702"
                  }
                },
                "metadata": {
                  "application/vnd.jupyter.widget-view+json": {
                    "colab": {
                      "custom_widget_manager": {
                        "url": "https://ssl.gstatic.com/colaboratory-static/widgets/colab-cdn-widget-manager/b3e629b1971e1542/manager.min.js"
                      }
                    }
                  }
                }
              }
            ]
          }
        },
        "2d949ddfe0b046a5976100c374ae3c37": {
          "model_module": "@jupyter-widgets/base",
          "model_name": "LayoutModel",
          "model_module_version": "1.2.0",
          "state": {
            "_model_module": "@jupyter-widgets/base",
            "_model_module_version": "1.2.0",
            "_model_name": "LayoutModel",
            "_view_count": null,
            "_view_module": "@jupyter-widgets/base",
            "_view_module_version": "1.2.0",
            "_view_name": "LayoutView",
            "align_content": null,
            "align_items": null,
            "align_self": null,
            "border": null,
            "bottom": null,
            "display": null,
            "flex": null,
            "flex_flow": null,
            "grid_area": null,
            "grid_auto_columns": null,
            "grid_auto_flow": null,
            "grid_auto_rows": null,
            "grid_column": null,
            "grid_gap": null,
            "grid_row": null,
            "grid_template_areas": null,
            "grid_template_columns": null,
            "grid_template_rows": null,
            "height": null,
            "justify_content": null,
            "justify_items": null,
            "left": null,
            "margin": null,
            "max_height": null,
            "max_width": null,
            "min_height": null,
            "min_width": null,
            "object_fit": null,
            "object_position": null,
            "order": null,
            "overflow": null,
            "overflow_x": null,
            "overflow_y": null,
            "padding": null,
            "right": null,
            "top": null,
            "visibility": null,
            "width": null
          }
        },
        "4fab7f23e9284599a72bd5074c07e5a5": {
          "model_module": "@jupyter-widgets/base",
          "model_name": "LayoutModel",
          "model_module_version": "1.2.0",
          "state": {
            "_model_module": "@jupyter-widgets/base",
            "_model_module_version": "1.2.0",
            "_model_name": "LayoutModel",
            "_view_count": null,
            "_view_module": "@jupyter-widgets/base",
            "_view_module_version": "1.2.0",
            "_view_name": "LayoutView",
            "align_content": null,
            "align_items": null,
            "align_self": null,
            "border": null,
            "bottom": null,
            "display": null,
            "flex": null,
            "flex_flow": null,
            "grid_area": null,
            "grid_auto_columns": null,
            "grid_auto_flow": null,
            "grid_auto_rows": null,
            "grid_column": null,
            "grid_gap": null,
            "grid_row": null,
            "grid_template_areas": null,
            "grid_template_columns": null,
            "grid_template_rows": null,
            "height": null,
            "justify_content": null,
            "justify_items": null,
            "left": null,
            "margin": null,
            "max_height": null,
            "max_width": null,
            "min_height": null,
            "min_width": null,
            "object_fit": null,
            "object_position": null,
            "order": null,
            "overflow": null,
            "overflow_x": null,
            "overflow_y": null,
            "padding": null,
            "right": null,
            "top": null,
            "visibility": null,
            "width": null
          }
        },
        "5459bc5068d7440ead589c5ed2114702": {
          "model_module": "luxwidget",
          "model_name": "LuxModel",
          "model_module_version": "0.1.11",
          "state": {
            "_dom_classes": [],
            "_model_module": "luxwidget",
            "_model_module_version": "0.1.11",
            "_model_name": "LuxModel",
            "_selectedVisIdxs": {},
            "_view_count": null,
            "_view_module": "luxwidget",
            "_view_module_version": "0.1.11",
            "_view_name": "LuxWidgetView",
            "all_column": false,
            "current_vis": {
              "config": {
                "view": {
                  "continuousWidth": 400,
                  "continuousHeight": 300
                },
                "axis": {
                  "labelColor": "#505050",
                  "labelFont": "Helvetica Neue",
                  "labelFontSize": 9,
                  "labelFontWeight": 400,
                  "titleFont": "Helvetica Neue",
                  "titleFontSize": 11,
                  "titleFontWeight": 500
                },
                "legend": {
                  "labelFont": "Helvetica Neue",
                  "labelFontSize": 9,
                  "labelFontWeight": 400,
                  "titleFont": "Helvetica Neue",
                  "titleFontSize": 10,
                  "titleFontWeight": 500
                },
                "mark": {
                  "tooltip": {
                    "content": "encoding"
                  }
                },
                "title": {
                  "font": "Helvetica Neue",
                  "fontSize": 13,
                  "fontWeight": 500
                }
              },
              "data": {
                "name": "data-3f114ecd602113b0575a92e1efb1cc84"
              },
              "mark": "bar",
              "encoding": {
                "x": {
                  "axis": {
                    "title": "Number of Records"
                  },
                  "field": "Record",
                  "title": "Number of Records",
                  "type": "quantitative"
                },
                "y": {
                  "axis": {
                    "labelOverlap": true,
                    "title": "SubRegion"
                  },
                  "field": "SubRegion",
                  "sort": "-x",
                  "type": "nominal"
                }
              },
              "height": 150,
              "width": 160,
              "$schema": "https://vega.github.io/schema/vega-lite/v4.17.0.json",
              "datasets": {
                "data-3f114ecd602113b0575a92e1efb1cc84": [
                  {
                    "SubRegion": "Americas",
                    "Record": 25
                  },
                  {
                    "SubRegion": "Asia Pacific",
                    "Record": 21
                  },
                  {
                    "SubRegion": "Europe",
                    "Record": 20
                  },
                  {
                    "SubRegion": "Middle East and North Africa",
                    "Record": 14
                  },
                  {
                    "SubRegion": "Post-communist",
                    "Record": 26
                  },
                  {
                    "SubRegion": "Sub Saharan Africa",
                    "Record": 34
                  }
                ]
              },
              "vislib": "vegalite",
              "allcols": false
            },
            "data": [],
            "deletedIndices": {},
            "intent": "SubRegion",
            "layout": "IPY_MODEL_4fab7f23e9284599a72bd5074c07e5a5",
            "message": "",
            "plotting_scale": 1,
            "recommendations": [
              {
                "action": "Enhance",
                "description": "Augmenting current <p class=\"highlight-intent\">SubRegion</p> intent with additional attribute.",
                "long_description": "Enhance adds an additional attribute displaying how <p class=\"highlight-intent\">SubRegion</p> changes with respect to other attributes. Visualizations are ranked based on interestingness. The top 15 visualizations are displayed.",
                "vspec": [
                  {
                    "config": {
                      "view": {
                        "continuousWidth": 400,
                        "continuousHeight": 300
                      },
                      "axis": {
                        "labelColor": "#505050",
                        "labelFont": "Helvetica Neue",
                        "labelFontSize": 9,
                        "labelFontWeight": 400,
                        "titleFont": "Helvetica Neue",
                        "titleFontSize": 11,
                        "titleFontWeight": 500
                      },
                      "legend": {
                        "labelFont": "Helvetica Neue",
                        "labelFontSize": 9,
                        "labelFontWeight": 400,
                        "titleFont": "Helvetica Neue",
                        "titleFontSize": 10,
                        "titleFontWeight": 500
                      },
                      "mark": {
                        "tooltip": {
                          "content": "encoding"
                        }
                      },
                      "title": {
                        "font": "Helvetica Neue",
                        "fontSize": 13,
                        "fontWeight": 500
                      }
                    },
                    "data": {
                      "name": "data-38ec38dc7fa4e50a0e62336aece69176"
                    },
                    "mark": "bar",
                    "encoding": {
                      "x": {
                        "axis": {
                          "title": "Mean of Population"
                        },
                        "field": "Population",
                        "title": "Mean of Population",
                        "type": "quantitative"
                      },
                      "y": {
                        "axis": {
                          "labelOverlap": true,
                          "title": "SubRegion"
                        },
                        "field": "SubRegion",
                        "sort": "-x",
                        "type": "nominal"
                      }
                    },
                    "height": 150,
                    "width": 160,
                    "$schema": "https://vega.github.io/schema/vega-lite/v4.17.0.json",
                    "datasets": {
                      "data-38ec38dc7fa4e50a0e62336aece69176": [
                        {
                          "SubRegion": "Americas",
                          "Population": 37758340.48
                        },
                        {
                          "SubRegion": "Asia Pacific",
                          "Population": 181282941.23809522
                        },
                        {
                          "SubRegion": "Europe",
                          "Population": 20723979.6
                        },
                        {
                          "SubRegion": "Middle East and North Africa",
                          "Population": 31848521.07142857
                        },
                        {
                          "SubRegion": "Post-communist",
                          "Population": 15034326.307692308
                        },
                        {
                          "SubRegion": "Sub Saharan Africa",
                          "Population": 21147327.26470588
                        }
                      ]
                    },
                    "vislib": "vegalite"
                  },
                  {
                    "config": {
                      "view": {
                        "continuousWidth": 400,
                        "continuousHeight": 300
                      },
                      "axis": {
                        "labelColor": "#505050",
                        "labelFont": "Helvetica Neue",
                        "labelFontSize": 9,
                        "labelFontWeight": 400,
                        "titleFont": "Helvetica Neue",
                        "titleFontSize": 11,
                        "titleFontWeight": 500
                      },
                      "legend": {
                        "labelFont": "Helvetica Neue",
                        "labelFontSize": 9,
                        "labelFontWeight": 400,
                        "titleFont": "Helvetica Neue",
                        "titleFontSize": 10,
                        "titleFontWeight": 500
                      },
                      "mark": {
                        "tooltip": {
                          "content": "encoding"
                        }
                      },
                      "title": {
                        "font": "Helvetica Neue",
                        "fontSize": 13,
                        "fontWeight": 500
                      }
                    },
                    "data": {
                      "name": "data-db158e0dd4720344ba972701312348fd"
                    },
                    "mark": "bar",
                    "encoding": {
                      "x": {
                        "axis": {
                          "title": "Mean of GDPPerCapita"
                        },
                        "field": "GDPPerCapita",
                        "title": "Mean of GDPPerCapita",
                        "type": "quantitative"
                      },
                      "y": {
                        "axis": {
                          "labelOverlap": true,
                          "title": "SubRegion"
                        },
                        "field": "SubRegion",
                        "sort": "-x",
                        "type": "nominal"
                      }
                    },
                    "height": 150,
                    "width": 160,
                    "$schema": "https://vega.github.io/schema/vega-lite/v4.17.0.json",
                    "datasets": {
                      "data-db158e0dd4720344ba972701312348fd": [
                        {
                          "SubRegion": "Americas",
                          "GDPPerCapita": 11435.6
                        },
                        {
                          "SubRegion": "Asia Pacific",
                          "GDPPerCapita": 12668.380952380952
                        },
                        {
                          "SubRegion": "Europe",
                          "GDPPerCapita": 48534.2
                        },
                        {
                          "SubRegion": "Middle East and North Africa",
                          "GDPPerCapita": 7990
                        },
                        {
                          "SubRegion": "Post-communist",
                          "GDPPerCapita": 9264.73076923077
                        },
                        {
                          "SubRegion": "Sub Saharan Africa",
                          "GDPPerCapita": 2123.470588235294
                        }
                      ]
                    },
                    "vislib": "vegalite"
                  },
                  {
                    "config": {
                      "view": {
                        "continuousWidth": 400,
                        "continuousHeight": 300
                      },
                      "axis": {
                        "labelColor": "#505050",
                        "labelFont": "Helvetica Neue",
                        "labelFontSize": 9,
                        "labelFontWeight": 400,
                        "titleFont": "Helvetica Neue",
                        "titleFontSize": 11,
                        "titleFontWeight": 500
                      },
                      "legend": {
                        "labelFont": "Helvetica Neue",
                        "labelFontSize": 9,
                        "labelFontWeight": 400,
                        "titleFont": "Helvetica Neue",
                        "titleFontSize": 10,
                        "titleFontWeight": 500
                      },
                      "mark": {
                        "tooltip": {
                          "content": "encoding"
                        }
                      },
                      "title": {
                        "font": "Helvetica Neue",
                        "fontSize": 13,
                        "fontWeight": 500
                      }
                    },
                    "data": {
                      "name": "data-1e1d915f6fcc30e6cab50f83d4a35da3"
                    },
                    "mark": "bar",
                    "encoding": {
                      "x": {
                        "axis": {
                          "title": "Mean of InequalityOfOut..."
                        },
                        "field": "InequalityOfOutcomes",
                        "title": "Mean of InequalityOfOut...",
                        "type": "quantitative"
                      },
                      "y": {
                        "axis": {
                          "labelOverlap": true,
                          "title": "SubRegion"
                        },
                        "field": "SubRegion",
                        "sort": "-x",
                        "type": "nominal"
                      }
                    },
                    "height": 150,
                    "width": 160,
                    "$schema": "https://vega.github.io/schema/vega-lite/v4.17.0.json",
                    "datasets": {
                      "data-1e1d915f6fcc30e6cab50f83d4a35da3": [
                        {
                          "SubRegion": "Americas",
                          "InequalityOfOutcomes": 0.21559999999999999
                        },
                        {
                          "SubRegion": "Asia Pacific",
                          "InequalityOfOutcomes": 0.20333333333333337
                        },
                        {
                          "SubRegion": "Europe",
                          "InequalityOfOutcomes": 0.0885
                        },
                        {
                          "SubRegion": "Middle East and North Africa",
                          "InequalityOfOutcomes": 0.24214285714285716
                        },
                        {
                          "SubRegion": "Post-communist",
                          "InequalityOfOutcomes": 0.17115384615384616
                        },
                        {
                          "SubRegion": "Sub Saharan Africa",
                          "InequalityOfOutcomes": 0.3926470588235294
                        }
                      ]
                    },
                    "vislib": "vegalite"
                  },
                  {
                    "config": {
                      "view": {
                        "continuousWidth": 400,
                        "continuousHeight": 300
                      },
                      "axis": {
                        "labelColor": "#505050",
                        "labelFont": "Helvetica Neue",
                        "labelFontSize": 9,
                        "labelFontWeight": 400,
                        "titleFont": "Helvetica Neue",
                        "titleFontSize": 11,
                        "titleFontWeight": 500
                      },
                      "legend": {
                        "labelFont": "Helvetica Neue",
                        "labelFontSize": 9,
                        "labelFontWeight": 400,
                        "titleFont": "Helvetica Neue",
                        "titleFontSize": 10,
                        "titleFontWeight": 500
                      },
                      "mark": {
                        "tooltip": {
                          "content": "encoding"
                        }
                      },
                      "title": {
                        "font": "Helvetica Neue",
                        "fontSize": 13,
                        "fontWeight": 500
                      }
                    },
                    "data": {
                      "name": "data-89622ad410e2ca762c45a138badbfc91"
                    },
                    "mark": "bar",
                    "encoding": {
                      "x": {
                        "axis": {
                          "title": "Mean of Footprint"
                        },
                        "field": "Footprint",
                        "title": "Mean of Footprint",
                        "type": "quantitative"
                      },
                      "y": {
                        "axis": {
                          "labelOverlap": true,
                          "title": "SubRegion"
                        },
                        "field": "SubRegion",
                        "sort": "-x",
                        "type": "nominal"
                      }
                    },
                    "height": 150,
                    "width": 160,
                    "$schema": "https://vega.github.io/schema/vega-lite/v4.17.0.json",
                    "datasets": {
                      "data-89622ad410e2ca762c45a138badbfc91": [
                        {
                          "SubRegion": "Americas",
                          "Footprint": 3.2560000000000002
                        },
                        {
                          "SubRegion": "Asia Pacific",
                          "Footprint": 3.1666666666666665
                        },
                        {
                          "SubRegion": "Europe",
                          "Footprint": 5.83
                        },
                        {
                          "SubRegion": "Middle East and North Africa",
                          "Footprint": 2.7357142857142853
                        },
                        {
                          "SubRegion": "Post-communist",
                          "Footprint": 3.8461538461538463
                        },
                        {
                          "SubRegion": "Sub Saharan Africa",
                          "Footprint": 1.576470588235294
                        }
                      ]
                    },
                    "vislib": "vegalite"
                  },
                  {
                    "config": {
                      "view": {
                        "continuousWidth": 400,
                        "continuousHeight": 300
                      },
                      "axis": {
                        "labelColor": "#505050",
                        "labelFont": "Helvetica Neue",
                        "labelFontSize": 9,
                        "labelFontWeight": 400,
                        "titleFont": "Helvetica Neue",
                        "titleFontSize": 11,
                        "titleFontWeight": 500
                      },
                      "legend": {
                        "labelFont": "Helvetica Neue",
                        "labelFontSize": 9,
                        "labelFontWeight": 400,
                        "titleFont": "Helvetica Neue",
                        "titleFontSize": 10,
                        "titleFontWeight": 500
                      },
                      "mark": {
                        "tooltip": {
                          "content": "encoding"
                        }
                      },
                      "title": {
                        "font": "Helvetica Neue",
                        "fontSize": 13,
                        "fontWeight": 500
                      }
                    },
                    "data": {
                      "name": "data-ad62f69f85deb534912b2328cb778544"
                    },
                    "mark": "bar",
                    "encoding": {
                      "x": {
                        "axis": {
                          "title": "Mean of HPIRank"
                        },
                        "field": "HPIRank",
                        "title": "Mean of HPIRank",
                        "type": "quantitative"
                      },
                      "y": {
                        "axis": {
                          "labelOverlap": true,
                          "title": "SubRegion"
                        },
                        "field": "SubRegion",
                        "sort": "-x",
                        "type": "nominal"
                      }
                    },
                    "height": 150,
                    "width": 160,
                    "$schema": "https://vega.github.io/schema/vega-lite/v4.17.0.json",
                    "datasets": {
                      "data-ad62f69f85deb534912b2328cb778544": [
                        {
                          "SubRegion": "Americas",
                          "HPIRank": 39.96
                        },
                        {
                          "SubRegion": "Asia Pacific",
                          "HPIRank": 51.76190476190476
                        },
                        {
                          "SubRegion": "Europe",
                          "HPIRank": 50.2
                        },
                        {
                          "SubRegion": "Middle East and North Africa",
                          "HPIRank": 74.14285714285714
                        },
                        {
                          "SubRegion": "Post-communist",
                          "HPIRank": 75.3076923076923
                        },
                        {
                          "SubRegion": "Sub Saharan Africa",
                          "HPIRank": 111.29411764705883
                        }
                      ]
                    },
                    "vislib": "vegalite"
                  },
                  {
                    "config": {
                      "view": {
                        "continuousWidth": 400,
                        "continuousHeight": 300
                      },
                      "axis": {
                        "labelColor": "#505050",
                        "labelFont": "Helvetica Neue",
                        "labelFontSize": 9,
                        "labelFontWeight": 400,
                        "titleFont": "Helvetica Neue",
                        "titleFontSize": 11,
                        "titleFontWeight": 500
                      },
                      "legend": {
                        "labelFont": "Helvetica Neue",
                        "labelFontSize": 9,
                        "labelFontWeight": 400,
                        "titleFont": "Helvetica Neue",
                        "titleFontSize": 10,
                        "titleFontWeight": 500
                      },
                      "mark": {
                        "tooltip": {
                          "content": "encoding"
                        }
                      },
                      "title": {
                        "font": "Helvetica Neue",
                        "fontSize": 13,
                        "fontWeight": 500
                      }
                    },
                    "data": {
                      "name": "data-855f5eb84e8e0e5c2f0775167f305a88"
                    },
                    "mark": "bar",
                    "encoding": {
                      "x": {
                        "axis": {
                          "title": "Mean of HappyLifeYears"
                        },
                        "field": "HappyLifeYears",
                        "title": "Mean of HappyLifeYears",
                        "type": "quantitative"
                      },
                      "y": {
                        "axis": {
                          "labelOverlap": true,
                          "title": "SubRegion"
                        },
                        "field": "SubRegion",
                        "sort": "-x",
                        "type": "nominal"
                      }
                    },
                    "height": 150,
                    "width": 160,
                    "$schema": "https://vega.github.io/schema/vega-lite/v4.17.0.json",
                    "datasets": {
                      "data-855f5eb84e8e0e5c2f0775167f305a88": [
                        {
                          "SubRegion": "Americas",
                          "HappyLifeYears": 35.552
                        },
                        {
                          "SubRegion": "Asia Pacific",
                          "HappyLifeYears": 31.323809523809523
                        },
                        {
                          "SubRegion": "Europe",
                          "HappyLifeYears": 49.21
                        },
                        {
                          "SubRegion": "Middle East and North Africa",
                          "HappyLifeYears": 26.82857142857143
                        },
                        {
                          "SubRegion": "Post-communist",
                          "HappyLifeYears": 31.457692307692305
                        },
                        {
                          "SubRegion": "Sub Saharan Africa",
                          "HappyLifeYears": 15.01764705882353
                        }
                      ]
                    },
                    "vislib": "vegalite"
                  },
                  {
                    "config": {
                      "view": {
                        "continuousWidth": 400,
                        "continuousHeight": 300
                      },
                      "axis": {
                        "labelColor": "#505050",
                        "labelFont": "Helvetica Neue",
                        "labelFontSize": 9,
                        "labelFontWeight": 400,
                        "titleFont": "Helvetica Neue",
                        "titleFontSize": 11,
                        "titleFontWeight": 500
                      },
                      "legend": {
                        "labelFont": "Helvetica Neue",
                        "labelFontSize": 9,
                        "labelFontWeight": 400,
                        "titleFont": "Helvetica Neue",
                        "titleFontSize": 10,
                        "titleFontWeight": 500
                      },
                      "mark": {
                        "tooltip": {
                          "content": "encoding"
                        }
                      },
                      "title": {
                        "font": "Helvetica Neue",
                        "fontSize": 13,
                        "fontWeight": 500
                      }
                    },
                    "data": {
                      "name": "data-2f15f4ba5699c9aa42a3394c94bc160e"
                    },
                    "mark": "bar",
                    "encoding": {
                      "x": {
                        "axis": {
                          "title": "Mean of InequalityAdjus..."
                        },
                        "field": "InequalityAdjustedLifeExpectancy",
                        "title": "Mean of InequalityAdjus...",
                        "type": "quantitative"
                      },
                      "y": {
                        "axis": {
                          "labelOverlap": true,
                          "title": "SubRegion"
                        },
                        "field": "SubRegion",
                        "sort": "-x",
                        "type": "nominal"
                      }
                    },
                    "height": 150,
                    "width": 160,
                    "$schema": "https://vega.github.io/schema/vega-lite/v4.17.0.json",
                    "datasets": {
                      "data-2f15f4ba5699c9aa42a3394c94bc160e": [
                        {
                          "SubRegion": "Americas",
                          "InequalityAdjustedLifeExpectancy": 63.74
                        },
                        {
                          "SubRegion": "Asia Pacific",
                          "InequalityAdjustedLifeExpectancy": 63.32380952380952
                        },
                        {
                          "SubRegion": "Europe",
                          "InequalityAdjustedLifeExpectancy": 78.08
                        },
                        {
                          "SubRegion": "Middle East and North Africa",
                          "InequalityAdjustedLifeExpectancy": 61.864285714285714
                        },
                        {
                          "SubRegion": "Post-communist",
                          "InequalityAdjustedLifeExpectancy": 66.94615384615385
                        },
                        {
                          "SubRegion": "Sub Saharan Africa",
                          "InequalityAdjustedLifeExpectancy": 39.88529411764706
                        }
                      ]
                    },
                    "vislib": "vegalite"
                  },
                  {
                    "config": {
                      "view": {
                        "continuousWidth": 400,
                        "continuousHeight": 300
                      },
                      "axis": {
                        "labelColor": "#505050",
                        "labelFont": "Helvetica Neue",
                        "labelFontSize": 9,
                        "labelFontWeight": 400,
                        "titleFont": "Helvetica Neue",
                        "titleFontSize": 11,
                        "titleFontWeight": 500
                      },
                      "legend": {
                        "labelFont": "Helvetica Neue",
                        "labelFontSize": 9,
                        "labelFontWeight": 400,
                        "titleFont": "Helvetica Neue",
                        "titleFontSize": 10,
                        "titleFontWeight": 500
                      },
                      "mark": {
                        "tooltip": {
                          "content": "encoding"
                        }
                      },
                      "title": {
                        "font": "Helvetica Neue",
                        "fontSize": 13,
                        "fontWeight": 500
                      }
                    },
                    "data": {
                      "name": "data-290a100b022663f980df68806088805b"
                    },
                    "mark": "bar",
                    "encoding": {
                      "x": {
                        "axis": {
                          "title": "Mean of InequalityAdjus..."
                        },
                        "field": "InequalityAdjustedWellbeing",
                        "title": "Mean of InequalityAdjus...",
                        "type": "quantitative"
                      },
                      "y": {
                        "axis": {
                          "labelOverlap": true,
                          "title": "SubRegion"
                        },
                        "field": "SubRegion",
                        "sort": "-x",
                        "type": "nominal"
                      }
                    },
                    "height": 150,
                    "width": 160,
                    "$schema": "https://vega.github.io/schema/vega-lite/v4.17.0.json",
                    "datasets": {
                      "data-290a100b022663f980df68806088805b": [
                        {
                          "SubRegion": "Americas",
                          "InequalityAdjustedWellbeing": 5.664
                        },
                        {
                          "SubRegion": "Asia Pacific",
                          "InequalityAdjustedWellbeing": 4.995238095238095
                        },
                        {
                          "SubRegion": "Europe",
                          "InequalityAdjustedWellbeing": 6.465000000000001
                        },
                        {
                          "SubRegion": "Middle East and North Africa",
                          "InequalityAdjustedWellbeing": 4.392857142857143
                        },
                        {
                          "SubRegion": "Post-communist",
                          "InequalityAdjustedWellbeing": 4.85
                        },
                        {
                          "SubRegion": "Sub Saharan Africa",
                          "InequalityAdjustedWellbeing": 3.9
                        }
                      ]
                    },
                    "vislib": "vegalite"
                  },
                  {
                    "config": {
                      "view": {
                        "continuousWidth": 400,
                        "continuousHeight": 300
                      },
                      "axis": {
                        "labelColor": "#505050",
                        "labelFont": "Helvetica Neue",
                        "labelFontSize": 9,
                        "labelFontWeight": 400,
                        "titleFont": "Helvetica Neue",
                        "titleFontSize": 11,
                        "titleFontWeight": 500
                      },
                      "legend": {
                        "labelFont": "Helvetica Neue",
                        "labelFontSize": 9,
                        "labelFontWeight": 400,
                        "titleFont": "Helvetica Neue",
                        "titleFontSize": 10,
                        "titleFontWeight": 500
                      },
                      "mark": {
                        "tooltip": {
                          "content": "encoding"
                        }
                      },
                      "title": {
                        "font": "Helvetica Neue",
                        "fontSize": 13,
                        "fontWeight": 500
                      }
                    },
                    "data": {
                      "name": "data-b06b264039cddcecd1faec5699b5d222"
                    },
                    "mark": "bar",
                    "encoding": {
                      "x": {
                        "axis": {
                          "title": "Mean of HappyPlanetInde..."
                        },
                        "field": "HappyPlanetIndex",
                        "title": "Mean of HappyPlanetInde...",
                        "type": "quantitative"
                      },
                      "y": {
                        "axis": {
                          "labelOverlap": true,
                          "title": "SubRegion"
                        },
                        "field": "SubRegion",
                        "sort": "-x",
                        "type": "nominal"
                      }
                    },
                    "height": 150,
                    "width": 160,
                    "$schema": "https://vega.github.io/schema/vega-lite/v4.17.0.json",
                    "datasets": {
                      "data-b06b264039cddcecd1faec5699b5d222": [
                        {
                          "SubRegion": "Americas",
                          "HappyPlanetIndex": 32.228
                        },
                        {
                          "SubRegion": "Asia Pacific",
                          "HappyPlanetIndex": 29.70952380952381
                        },
                        {
                          "SubRegion": "Europe",
                          "HappyPlanetIndex": 29.560000000000002
                        },
                        {
                          "SubRegion": "Middle East and North Africa",
                          "HappyPlanetIndex": 25.807142857142857
                        },
                        {
                          "SubRegion": "Post-communist",
                          "HappyPlanetIndex": 25.48846153846154
                        },
                        {
                          "SubRegion": "Sub Saharan Africa",
                          "HappyPlanetIndex": 19.185294117647057
                        }
                      ]
                    },
                    "vislib": "vegalite"
                  },
                  {
                    "config": {
                      "view": {
                        "continuousWidth": 400,
                        "continuousHeight": 300
                      },
                      "axis": {
                        "labelColor": "#505050",
                        "labelFont": "Helvetica Neue",
                        "labelFontSize": 9,
                        "labelFontWeight": 400,
                        "titleFont": "Helvetica Neue",
                        "titleFontSize": 11,
                        "titleFontWeight": 500
                      },
                      "legend": {
                        "labelFont": "Helvetica Neue",
                        "labelFontSize": 9,
                        "labelFontWeight": 400,
                        "titleFont": "Helvetica Neue",
                        "titleFontSize": 10,
                        "titleFontWeight": 500
                      },
                      "mark": {
                        "tooltip": {
                          "content": "encoding"
                        }
                      },
                      "title": {
                        "font": "Helvetica Neue",
                        "fontSize": 13,
                        "fontWeight": 500
                      }
                    },
                    "data": {
                      "name": "data-67fcf49480970561475f87d554f8b925"
                    },
                    "mark": "bar",
                    "encoding": {
                      "x": {
                        "axis": {
                          "title": "Mean of AverageWellBein..."
                        },
                        "field": "AverageWellBeing",
                        "title": "Mean of AverageWellBein...",
                        "type": "quantitative"
                      },
                      "y": {
                        "axis": {
                          "labelOverlap": true,
                          "title": "SubRegion"
                        },
                        "field": "SubRegion",
                        "sort": "-x",
                        "type": "nominal"
                      }
                    },
                    "height": 150,
                    "width": 160,
                    "$schema": "https://vega.github.io/schema/vega-lite/v4.17.0.json",
                    "datasets": {
                      "data-67fcf49480970561475f87d554f8b925": [
                        {
                          "SubRegion": "Americas",
                          "AverageWellBeing": 6.192
                        },
                        {
                          "SubRegion": "Asia Pacific",
                          "AverageWellBeing": 5.390476190476191
                        },
                        {
                          "SubRegion": "Europe",
                          "AverageWellBeing": 6.8
                        },
                        {
                          "SubRegion": "Middle East and North Africa",
                          "AverageWellBeing": 4.871428571428572
                        },
                        {
                          "SubRegion": "Post-communist",
                          "AverageWellBeing": 5.300000000000001
                        },
                        {
                          "SubRegion": "Sub Saharan Africa",
                          "AverageWellBeing": 4.326470588235294
                        }
                      ]
                    },
                    "vislib": "vegalite"
                  },
                  {
                    "config": {
                      "view": {
                        "continuousWidth": 400,
                        "continuousHeight": 300
                      },
                      "axis": {
                        "labelColor": "#505050",
                        "labelFont": "Helvetica Neue",
                        "labelFontSize": 9,
                        "labelFontWeight": 400,
                        "titleFont": "Helvetica Neue",
                        "titleFontSize": 11,
                        "titleFontWeight": 500
                      },
                      "legend": {
                        "labelFont": "Helvetica Neue",
                        "labelFontSize": 9,
                        "labelFontWeight": 400,
                        "titleFont": "Helvetica Neue",
                        "titleFontSize": 10,
                        "titleFontWeight": 500
                      },
                      "mark": {
                        "tooltip": {
                          "content": "encoding"
                        }
                      },
                      "title": {
                        "font": "Helvetica Neue",
                        "fontSize": 13,
                        "fontWeight": 500
                      }
                    },
                    "data": {
                      "name": "data-95121a3f1131bd107495070251ffd34d"
                    },
                    "mark": "bar",
                    "encoding": {
                      "x": {
                        "axis": {
                          "title": "Mean of AverageLifeExpe..."
                        },
                        "field": "AverageLifeExpectancy",
                        "title": "Mean of AverageLifeExpe...",
                        "type": "quantitative"
                      },
                      "y": {
                        "axis": {
                          "labelOverlap": true,
                          "title": "SubRegion"
                        },
                        "field": "SubRegion",
                        "sort": "-x",
                        "type": "nominal"
                      }
                    },
                    "height": 150,
                    "width": 160,
                    "$schema": "https://vega.github.io/schema/vega-lite/v4.17.0.json",
                    "datasets": {
                      "data-95121a3f1131bd107495070251ffd34d": [
                        {
                          "SubRegion": "Americas",
                          "AverageLifeExpectancy": 74.016
                        },
                        {
                          "SubRegion": "Asia Pacific",
                          "AverageLifeExpectancy": 73.15238095238095
                        },
                        {
                          "SubRegion": "Europe",
                          "AverageLifeExpectancy": 81.03999999999999
                        },
                        {
                          "SubRegion": "Middle East and North Africa",
                          "AverageLifeExpectancy": 72.46428571428571
                        },
                        {
                          "SubRegion": "Post-communist",
                          "AverageLifeExpectancy": 73.58076923076922
                        },
                        {
                          "SubRegion": "Sub Saharan Africa",
                          "AverageLifeExpectancy": 58.65882352941177
                        }
                      ]
                    },
                    "vislib": "vegalite"
                  }
                ]
              }
            ],
            "selectedIntentIndex": {}
          }
        }
      }
    }
  },
  "cells": [
    {
      "cell_type": "markdown",
      "metadata": {
        "id": "view-in-github",
        "colab_type": "text"
      },
      "source": [
        "<a href=\"https://colab.research.google.com/github/Nickguild1993/Python_for_data_analysis/blob/main/Lux_Library_Utility_Exploration.ipynb\" target=\"_parent\"><img src=\"https://colab.research.google.com/assets/colab-badge.svg\" alt=\"Open In Colab\"/></a>"
      ]
    },
    {
      "cell_type": "code",
      "source": [
        "# !pip install lux \n",
        "\n",
        "# !pip install lux-api\n",
        "\n",
        "# !jupyter nbextension install --py luxwidget\n",
        "# !jupyter nbextension enable --py luxwidget\n",
        "\n",
        "# you'll only need to run this once- Lux isn't pre-installed"
      ],
      "metadata": {
        "id": "PzQ2anY6xAYv"
      },
      "execution_count": 8,
      "outputs": []
    },
    {
      "cell_type": "code",
      "execution_count": 36,
      "metadata": {
        "id": "HBjuOe6Mtv_g"
      },
      "outputs": [],
      "source": [
        "# import libraries\n",
        "\n",
        "import pandas as pd\n",
        "import numpy as np\n",
        "\n",
        "import lux\n",
        "\n",
        "from google.colab import output\n",
        "output.enable_custom_widget_manager()"
      ]
    },
    {
      "cell_type": "code",
      "source": [
        "url = \"https://raw.githubusercontent.com/lux-org/lux-datasets/master/data/hpi.csv\"\n",
        "# Happy planet index dataset\n",
        "df = pd.read_csv(url)"
      ],
      "metadata": {
        "id": "fwUKGCRVveWV"
      },
      "execution_count": 52,
      "outputs": []
    },
    {
      "cell_type": "code",
      "source": [
        "df.head(3)"
      ],
      "metadata": {
        "colab": {
          "base_uri": "https://localhost:8080/",
          "height": 186,
          "referenced_widgets": [
            "06675c13efc7415195d21472164e9985",
            "565db6ede220439d9e9022749142701e",
            "608a73cd96a64332b225893e926dcb6c",
            "f288a5e1b3b54311a917734994596d90",
            "a5a34a7c7f0e47999357c1189c83fd4b"
          ]
        },
        "id": "C4DwHXhd52Dq",
        "outputId": "eedc5131-ada8-43aa-e70f-ca42e0f81c3b"
      },
      "execution_count": 53,
      "outputs": [
        {
          "output_type": "display_data",
          "data": {
            "text/plain": [
              "Button(description='Toggle Pandas/Lux', layout=Layout(top='5px', width='140px'), style=ButtonStyle())"
            ],
            "application/vnd.jupyter.widget-view+json": {
              "version_major": 2,
              "version_minor": 0,
              "model_id": "06675c13efc7415195d21472164e9985"
            }
          },
          "metadata": {
            "application/vnd.jupyter.widget-view+json": {
              "colab": {
                "custom_widget_manager": {
                  "url": "https://ssl.gstatic.com/colaboratory-static/widgets/colab-cdn-widget-manager/b3e629b1971e1542/manager.min.js"
                }
              }
            }
          }
        },
        {
          "output_type": "display_data",
          "data": {
            "text/plain": [
              "Output()"
            ],
            "application/vnd.jupyter.widget-view+json": {
              "version_major": 2,
              "version_minor": 0,
              "model_id": "f288a5e1b3b54311a917734994596d90"
            }
          },
          "metadata": {
            "application/vnd.jupyter.widget-view+json": {
              "colab": {
                "custom_widget_manager": {
                  "url": "https://ssl.gstatic.com/colaboratory-static/widgets/colab-cdn-widget-manager/b3e629b1971e1542/manager.min.js"
                }
              }
            }
          }
        }
      ]
    },
    {
      "cell_type": "code",
      "source": [
        "vis = df.exported[0]\n",
        "vis"
      ],
      "metadata": {
        "colab": {
          "base_uri": "https://localhost:8080/",
          "height": 337,
          "referenced_widgets": [
            "c4f1221819c9438e91d9fa9e79c5137b",
            "dddb19fb12364d53be5de20864c4b921"
          ]
        },
        "id": "e1q2_GhLzT97",
        "outputId": "8ce159ba-5746-4611-b665-9ee1ab2cb7eb"
      },
      "execution_count": 49,
      "outputs": [
        {
          "output_type": "display_data",
          "data": {
            "text/plain": [
              "LuxWidget(current_vis={'config': {'view': {'continuousWidth': 400, 'continuousHeight': 300}, 'axis': {'labelCo…"
            ],
            "application/vnd.jupyter.widget-view+json": {
              "version_major": 2,
              "version_minor": 0,
              "model_id": "c4f1221819c9438e91d9fa9e79c5137b"
            }
          },
          "metadata": {
            "application/vnd.jupyter.widget-view+json": {
              "colab": {
                "custom_widget_manager": {
                  "url": "https://ssl.gstatic.com/colaboratory-static/widgets/colab-cdn-widget-manager/b3e629b1971e1542/manager.min.js"
                }
              }
            }
          }
        }
      ]
    },
    {
      "cell_type": "code",
      "source": [
        "df.intent = [\"SubRegion\"]\n",
        "df"
      ],
      "metadata": {
        "colab": {
          "base_uri": "https://localhost:8080/",
          "height": 369,
          "referenced_widgets": [
            "23f30dd518434208a32ef5da13c3c30c",
            "af453b82243847c597dbb4b2a7da1ddf",
            "9cabc146ac1d41cda101bf46837a4a7f",
            "88a26380a8d242019646535e260eeb47",
            "2d949ddfe0b046a5976100c374ae3c37",
            "4fab7f23e9284599a72bd5074c07e5a5",
            "5459bc5068d7440ead589c5ed2114702"
          ]
        },
        "id": "zuYOCeVd35T2",
        "outputId": "de08d078-fb14-4a5e-91ab-789d5a877b45"
      },
      "execution_count": 43,
      "outputs": [
        {
          "output_type": "display_data",
          "data": {
            "text/plain": [
              "Button(description='Toggle Pandas/Lux', layout=Layout(top='5px', width='140px'), style=ButtonStyle())"
            ],
            "application/vnd.jupyter.widget-view+json": {
              "version_major": 2,
              "version_minor": 0,
              "model_id": "23f30dd518434208a32ef5da13c3c30c"
            }
          },
          "metadata": {
            "application/vnd.jupyter.widget-view+json": {
              "colab": {
                "custom_widget_manager": {
                  "url": "https://ssl.gstatic.com/colaboratory-static/widgets/colab-cdn-widget-manager/b3e629b1971e1542/manager.min.js"
                }
              }
            }
          }
        },
        {
          "output_type": "display_data",
          "data": {
            "text/plain": [
              "Output()"
            ],
            "application/vnd.jupyter.widget-view+json": {
              "version_major": 2,
              "version_minor": 0,
              "model_id": "88a26380a8d242019646535e260eeb47"
            }
          },
          "metadata": {
            "application/vnd.jupyter.widget-view+json": {
              "colab": {
                "custom_widget_manager": {
                  "url": "https://ssl.gstatic.com/colaboratory-static/widgets/colab-cdn-widget-manager/b3e629b1971e1542/manager.min.js"
                }
              }
            }
          }
        }
      ]
    },
    {
      "cell_type": "code",
      "source": [
        "# from google.colab import data_table\n",
        "# data_table.enable_dataframe_formatter()"
      ],
      "metadata": {
        "id": "kJr_UVsBxIIA"
      },
      "execution_count": 46,
      "outputs": []
    },
    {
      "cell_type": "code",
      "source": [],
      "metadata": {
        "id": "2fC7A8xu5flb"
      },
      "execution_count": null,
      "outputs": []
    }
  ]
}