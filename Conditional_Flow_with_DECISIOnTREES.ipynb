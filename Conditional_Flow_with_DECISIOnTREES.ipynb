{
  "nbformat": 4,
  "nbformat_minor": 0,
  "metadata": {
    "colab": {
      "name": "Conditional_Flow_with_DECISIOnTREES.ipynb",
      "provenance": [],
      "authorship_tag": "ABX9TyNwb7P4Axt2mrbt+V3RBNZA",
      "include_colab_link": true
    },
    "kernelspec": {
      "name": "python3",
      "display_name": "Python 3"
    },
    "language_info": {
      "name": "python"
    }
  },
  "cells": [
    {
      "cell_type": "markdown",
      "metadata": {
        "id": "view-in-github",
        "colab_type": "text"
      },
      "source": [
        "<a href=\"https://colab.research.google.com/github/Nickguild1993/Python_for_data_analysis/blob/main/Conditional_Flow_with_DECISIOnTREES.ipynb\" target=\"_parent\"><img src=\"https://colab.research.google.com/assets/colab-badge.svg\" alt=\"Open In Colab\"/></a>"
      ]
    },
    {
      "cell_type": "markdown",
      "source": [
        "Using conditionals for program flow logic "
      ],
      "metadata": {
        "id": "J_UJ8D-eD-Up"
      }
    },
    {
      "cell_type": "code",
      "execution_count": 1,
      "metadata": {
        "id": "IwHVAchCDsgG"
      },
      "outputs": [],
      "source": [
        "import pandas as pd\n",
        "import numpy as np"
      ]
    },
    {
      "cell_type": "markdown",
      "source": [
        "Booleans\n",
        "\n",
        "Equals  A == B\n",
        "Not equal  A != B\n",
        "Less than  A < B\n",
        "Greater than A > B\n",
        "less than or equal A <= B\n",
        "greater than or equal A >= B"
      ],
      "metadata": {
        "id": "gv_gSlNkEPOY"
      }
    },
    {
      "cell_type": "code",
      "source": [
        "a = 10\n",
        "b = 12\n",
        "\n",
        "if a == b:\n",
        "  print(\"equal\")\n",
        "else:\n",
        "  print(\"Not equal\")"
      ],
      "metadata": {
        "colab": {
          "base_uri": "https://localhost:8080/"
        },
        "id": "19e3NUwpEhQM",
        "outputId": "c3240c9e-2150-409a-8eaa-c97af3da615a"
      },
      "execution_count": 2,
      "outputs": [
        {
          "output_type": "stream",
          "name": "stdout",
          "text": [
            "Not equal\n"
          ]
        }
      ]
    },
    {
      "cell_type": "markdown",
      "source": [
        "if else elif statements\n"
      ],
      "metadata": {
        "id": "yL214C5NFfSB"
      }
    },
    {
      "cell_type": "code",
      "source": [
        "a = 10\n",
        "b = 12\n",
        "\n",
        "if a > b:\n",
        "  print(\"A greater than B\")\n",
        "elif a == b:\n",
        "  print(\"A is equal to B\")\n",
        "else:\n",
        "  print(\"A is less than B\")\n"
      ],
      "metadata": {
        "colab": {
          "base_uri": "https://localhost:8080/"
        },
        "id": "77xhpYclFgqu",
        "outputId": "575627d7-aab7-4b26-b32f-902bb5e2577c"
      },
      "execution_count": 3,
      "outputs": [
        {
          "output_type": "stream",
          "name": "stdout",
          "text": [
            "A is less than B\n"
          ]
        }
      ]
    },
    {
      "cell_type": "markdown",
      "source": [
        "#### Project - Car insurance"
      ],
      "metadata": {
        "id": "EjrDuPIHF3h_"
      }
    },
    {
      "cell_type": "markdown",
      "source": [
        "Car insurance calculation | decision tree\n",
        " \n",
        "Gender -> male  -> age 26 <= / > 26 : 23% / 9%\n",
        "Gender -> Female -> sports y / n : 21%  / 10%"
      ],
      "metadata": {
        "id": "DY1-AgM4GA-T"
      }
    },
    {
      "cell_type": "code",
      "source": [
        "gender = input(f'What is your gender?')\n",
        "print(f'I am a {gender}')\n",
        "if gender == \"Male\":\n",
        "  print(\"User is Male\")\n",
        "age = input(f'what is your age?')\n",
        "age = int(age)\n",
        "print(f' I am {age}')\n",
        "if age <= 26:\n",
        "  print(\"Rate is 23%\")\n",
        "else: print(\"Male is over 26, rate is 9%\")\n",
        "\n",
        "# elif gender == \"Female\":\n",
        "#   print(\"User is Female\")\n",
        "  \n",
        "# age = input(f'what is your age?')\n",
        "# age = int(age)\n",
        "# print(f' I am {age}')\n",
        "# if age <= 26:\n",
        "#   print(\"Rate is 23%\")\n",
        "# else: print(\"Male is over 26, rate is 9%\")\n",
        "# else: print(\"User is Female\")\n",
        "# age = input(f'')\n",
        "\n",
        "\n",
        "\n",
        "# def insurance_cost(gender, second, rate):\n",
        "#   if gender == \"M\" and second < 26\n",
        "#   print(rate)\n",
        "  "
      ],
      "metadata": {
        "colab": {
          "base_uri": "https://localhost:8080/"
        },
        "id": "-1RjnJc1F8m4",
        "outputId": "6be8eda8-c9fe-40ed-8965-b53176244d4f"
      },
      "execution_count": 4,
      "outputs": [
        {
          "output_type": "stream",
          "name": "stdout",
          "text": [
            "What is your gender?Male\n",
            "I am a Male\n",
            "User is Male\n",
            "what is your age?24\n",
            " I am 24\n",
            "Rate is 23%\n"
          ]
        }
      ]
    },
    {
      "cell_type": "code",
      "source": [
        "gender = input(f'What is your gender (Male/Female):')\n",
        "if gender == \"Male\":\n",
        "  print(\"Male\")\n",
        "  age = input(\"what is your age?\")\n",
        "  age = int(age)\n",
        "  if age <= 26:\n",
        "    print(\"Rate is 23%\")\n",
        "    percentage = 23\n",
        "  else: \n",
        "    print(\"Rate is 9%\")\n",
        "    percentage = 9\n",
        "elif gender == \"Female\":\n",
        "  print(\"Female\")\n",
        "  car = input(f'Do you drive a sports car?')\n",
        "  if car == \"yes\":\n",
        "    print(\"your rate is 21%\")\n",
        "    percentage = 21\n",
        "  else: print(\"your rate is 13%\")\n",
        "  percentage = 13\n",
        "else:\n",
        "  print(\"idk bro\")\n",
        "\n",
        "market_price = input(\"What is the KBB value of your car?\")\n",
        "market_price = int(market_price)\n",
        "insurance_offer = market_price * percentage / 100\n",
        "\n",
        "print(f'Insurance rate is going to be {insurance_offer}')\n",
        "print(f'cost per month is {insurance_offer / 12}')"
      ],
      "metadata": {
        "colab": {
          "base_uri": "https://localhost:8080/"
        },
        "id": "aUmVj7t8K6xH",
        "outputId": "f49830db-7304-455d-e1dc-f97fc1afc9bf"
      },
      "execution_count": null,
      "outputs": [
        {
          "output_type": "stream",
          "name": "stdout",
          "text": [
            "What is your gender (Male/Female):Female\n",
            "Female\n",
            "Do you drive a sports car?yes\n",
            "your rate is 21%\n",
            "What is the KBB value of your car?23000\n",
            "Insurance rate is going to be 2990.0\n",
            "cost per month is 249.16666666666666\n"
          ]
        }
      ]
    }
  ]
}