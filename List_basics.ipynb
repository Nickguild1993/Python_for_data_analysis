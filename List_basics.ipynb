{
  "nbformat": 4,
  "nbformat_minor": 0,
  "metadata": {
    "colab": {
      "name": "AdvancedLists.ipynb",
      "provenance": [],
      "authorship_tag": "ABX9TyNMerLUNe58P8p7/WiWshE7",
      "include_colab_link": true
    },
    "kernelspec": {
      "name": "python3",
      "display_name": "Python 3"
    },
    "language_info": {
      "name": "python"
    }
  },
  "cells": [
    {
      "cell_type": "markdown",
      "metadata": {
        "id": "view-in-github",
        "colab_type": "text"
      },
      "source": [
        "<a href=\"https://colab.research.google.com/github/Nickguild1993/Python_for_data_analysis/blob/main/List_basics.ipynb\" target=\"_parent\"><img src=\"https://colab.research.google.com/assets/colab-badge.svg\" alt=\"Open In Colab\"/></a>"
      ]
    },
    {
      "cell_type": "markdown",
      "source": [
        "Going over list properties "
      ],
      "metadata": {
        "id": "RO2SrzpV-9_4"
      }
    },
    {
      "cell_type": "code",
      "execution_count": null,
      "metadata": {
        "id": "2jcH1w8V-2sD"
      },
      "outputs": [],
      "source": [
        "\n",
        "# libraries\n",
        "import pandas as pd\n",
        "import numpy as np"
      ]
    },
    {
      "cell_type": "code",
      "source": [
        "mylist = [\"banana\", \"apple\", \"orange\", \"strawberry\", \"cake\", \"corn\"]\n",
        "print(mylist)"
      ],
      "metadata": {
        "colab": {
          "base_uri": "https://localhost:8080/"
        },
        "id": "7qRVgKGN_GYa",
        "outputId": "8d89da0c-ace2-48ba-97ba-5f092407353e"
      },
      "execution_count": null,
      "outputs": [
        {
          "output_type": "stream",
          "name": "stdout",
          "text": [
            "['banana', 'apple', 'orange', 'strawberry', 'cake', 'corn']\n"
          ]
        }
      ]
    },
    {
      "cell_type": "code",
      "source": [
        "mylist2 = list()\n",
        "print(mylist2)\n",
        "\n",
        "mylist3 = [True, 5, \"apple\", \"apple\", \"cake\"]\n",
        "print(mylist3)\n",
        "\n",
        "item = mylist3[2]\n",
        "print(item)\n",
        "\n",
        "items = mylist3[1:3]\n",
        "print(items)\n",
        "\n",
        "last = mylist[-1]\n",
        "print(last)"
      ],
      "metadata": {
        "colab": {
          "base_uri": "https://localhost:8080/"
        },
        "id": "ZQPLq7sM_L-3",
        "outputId": "d9d4acab-a920-43ca-baea-53596574fcab"
      },
      "execution_count": null,
      "outputs": [
        {
          "output_type": "stream",
          "name": "stdout",
          "text": [
            "[]\n",
            "[True, 5, 'apple', 'apple', 'cake']\n",
            "apple\n",
            "[5, 'apple']\n",
            "corn\n"
          ]
        }
      ]
    },
    {
      "cell_type": "code",
      "source": [
        "for value in mylist:\n",
        "  print(value)"
      ],
      "metadata": {
        "colab": {
          "base_uri": "https://localhost:8080/"
        },
        "id": "QKBy4rMx_ovQ",
        "outputId": "47bd0dd0-4d76-44aa-91e4-343d57484d10"
      },
      "execution_count": null,
      "outputs": [
        {
          "output_type": "stream",
          "name": "stdout",
          "text": [
            "banana\n",
            "apple\n",
            "orange\n",
            "strawberry\n",
            "cake\n",
            "corn\n"
          ]
        }
      ]
    },
    {
      "cell_type": "code",
      "source": [
        "if \"banana\" in mylist:\n",
        "  print(\"yes\")\n",
        "else:\n",
        "  print(\"No\")"
      ],
      "metadata": {
        "colab": {
          "base_uri": "https://localhost:8080/"
        },
        "id": "XrrrjxWi_xTI",
        "outputId": "c465bdca-8f33-48d9-b676-995432ad9835"
      },
      "execution_count": null,
      "outputs": [
        {
          "output_type": "stream",
          "name": "stdout",
          "text": [
            "yes\n"
          ]
        }
      ]
    },
    {
      "cell_type": "code",
      "source": [
        "mylist5 = [fruit for fruit in mylist if fruit == \"cake\"]\n",
        "mylist5"
      ],
      "metadata": {
        "colab": {
          "base_uri": "https://localhost:8080/"
        },
        "id": "EWAHMun-CXK9",
        "outputId": "29bd1766-392c-43e7-d486-efc46d135041"
      },
      "execution_count": null,
      "outputs": [
        {
          "output_type": "execute_result",
          "data": {
            "text/plain": [
              "['cake']"
            ]
          },
          "metadata": {},
          "execution_count": 11
        }
      ]
    },
    {
      "cell_type": "code",
      "source": [
        "print(len(mylist))\n",
        "\n",
        "mylist.append(\"lemon\")\n",
        "print(mylist)"
      ],
      "metadata": {
        "colab": {
          "base_uri": "https://localhost:8080/"
        },
        "id": "Z7d5_AdR_83Y",
        "outputId": "f4679c2b-0ebe-4a2e-bf3e-456aa7fe8961"
      },
      "execution_count": null,
      "outputs": [
        {
          "output_type": "stream",
          "name": "stdout",
          "text": [
            "7\n",
            "['banana', 'apple', 'orange', 'strawberry', 'cake', 'corn', 'lemon', 'lemon']\n"
          ]
        }
      ]
    },
    {
      "cell_type": "markdown",
      "source": [
        "Inserting a new item into a list at a specific location"
      ],
      "metadata": {
        "id": "TVF6p7qdAOp7"
      }
    },
    {
      "cell_type": "code",
      "source": [
        "mylist.insert(2, \"Limes\") # starts at zero!\n",
        "print(mylist)"
      ],
      "metadata": {
        "colab": {
          "base_uri": "https://localhost:8080/"
        },
        "id": "ayXU8firANE5",
        "outputId": "0403a953-f684-4389-a5a4-53fc9e1541ce"
      },
      "execution_count": null,
      "outputs": [
        {
          "output_type": "stream",
          "name": "stdout",
          "text": [
            "['banana', 'apple', 'Limes', 'orange', 'strawberry', 'cake', 'corn', 'lemon', 'lemon']\n"
          ]
        }
      ]
    },
    {
      "cell_type": "markdown",
      "source": [
        "remove items from a list"
      ],
      "metadata": {
        "id": "J672SG4oAbMR"
      }
    },
    {
      "cell_type": "code",
      "source": [
        "# returns last item *ADDED* and removes it\n",
        "removal = mylist.pop()\n",
        "print(removal)\n",
        "print(mylist)"
      ],
      "metadata": {
        "colab": {
          "base_uri": "https://localhost:8080/"
        },
        "id": "3Dz4yK8ZAcoi",
        "outputId": "23a1a14f-c0e8-4fd9-daf5-2ec761b6ac3b"
      },
      "execution_count": null,
      "outputs": [
        {
          "output_type": "stream",
          "name": "stdout",
          "text": [
            "lemon\n",
            "['banana', 'apple', 'Limes', 'orange', 'strawberry', 'cake', 'corn', 'lemon']\n"
          ]
        }
      ]
    },
    {
      "cell_type": "code",
      "source": [
        "mylist3 = mylist\n",
        "\n",
        "item = mylist3.remove(\"banana\") # removes FIRST OCCURANCE\n",
        "print(mylist3)"
      ],
      "metadata": {
        "colab": {
          "base_uri": "https://localhost:8080/"
        },
        "id": "_2ERNaWZA1sh",
        "outputId": "b9ec0f87-b75a-4587-bfa7-bc3f39d4181e"
      },
      "execution_count": null,
      "outputs": [
        {
          "output_type": "stream",
          "name": "stdout",
          "text": [
            "['apple', 'Limes', 'orange', 'strawberry', 'cake', 'corn', 'lemon']\n"
          ]
        }
      ]
    },
    {
      "cell_type": "code",
      "source": [
        "mylist3 = mylist3\n",
        "mylist3.insert(3, \"Dragonfruit\")\n",
        "print(mylist3)\n",
        "mylist.pop()\n",
        "print(mylist)"
      ],
      "metadata": {
        "colab": {
          "base_uri": "https://localhost:8080/"
        },
        "id": "CmaMekYDBlqF",
        "outputId": "d34acf87-ea5e-4a23-f2de-ef72b4dce94a"
      },
      "execution_count": null,
      "outputs": [
        {
          "output_type": "stream",
          "name": "stdout",
          "text": [
            "['apple', 'Limes', 'orange', 'Dragonfruit', 'Dragonfruit', 'Dragonfruit', 'Dragonfruit', 'Dragonfruit', 'Dragonfruit', 'strawberry', 'cake', 'corn', 'lemon']\n",
            "['apple', 'Limes', 'orange', 'Dragonfruit', 'Dragonfruit', 'Dragonfruit', 'Dragonfruit', 'Dragonfruit', 'Dragonfruit', 'strawberry', 'cake', 'corn']\n"
          ]
        }
      ]
    },
    {
      "cell_type": "code",
      "source": [
        "mylist = [\"banana\", \"apple\", \"orange\", \"Dragonfruit\",\"strawberry\", \"cake\", \"corn\"]\n",
        "print(mylist)"
      ],
      "metadata": {
        "colab": {
          "base_uri": "https://localhost:8080/"
        },
        "id": "Cp-krxjTEfp5",
        "outputId": "6f12d306-5c4a-4730-f195-4f257b6687ca"
      },
      "execution_count": null,
      "outputs": [
        {
          "output_type": "stream",
          "name": "stdout",
          "text": [
            "['banana', 'apple', 'orange', 'Dragonfruit', 'strawberry', 'cake', 'corn']\n"
          ]
        }
      ]
    },
    {
      "cell_type": "code",
      "source": [
        "mylist.remove(\"Dragonfruit\") # removes first value, reading RIGHT\n",
        "print(mylist)"
      ],
      "metadata": {
        "colab": {
          "base_uri": "https://localhost:8080/"
        },
        "id": "SQbke9nRDr9Q",
        "outputId": "2ae7e4b0-825b-4a16-a782-f7ae891d522f"
      },
      "execution_count": null,
      "outputs": [
        {
          "output_type": "stream",
          "name": "stdout",
          "text": [
            "['banana', 'apple', 'orange', 'strawberry', 'cake', 'corn']\n"
          ]
        }
      ]
    },
    {
      "cell_type": "markdown",
      "source": [
        " Remove all values from a list with .clear()"
      ],
      "metadata": {
        "id": "lX0U8ml5D_4c"
      }
    },
    {
      "cell_type": "code",
      "source": [
        "listicle = sorted(mylist) # if alphabetical it sorts A-Z\n",
        "print(listicle)\n",
        "print(\"------------\")\n",
        "print(listicle.clear())\n",
        "print(\"------------\")\n",
        "print(mylist)"
      ],
      "metadata": {
        "colab": {
          "base_uri": "https://localhost:8080/"
        },
        "id": "AidfRj6nEEso",
        "outputId": "c49d3ff4-8a19-4c99-a149-47a5cf246caa"
      },
      "execution_count": null,
      "outputs": [
        {
          "output_type": "stream",
          "name": "stdout",
          "text": [
            "['apple', 'banana', 'cake', 'corn', 'orange', 'strawberry']\n",
            "------------\n",
            "None\n",
            "------------\n",
            "['banana', 'apple', 'orange', 'strawberry', 'cake', 'corn']\n"
          ]
        }
      ]
    },
    {
      "cell_type": "markdown",
      "source": [
        "reverse method .reverse()"
      ],
      "metadata": {
        "id": "FoxeAYa_ENRi"
      }
    },
    {
      "cell_type": "code",
      "source": [
        "mylist2 = [2,4,5,10,15,12,69]\n",
        "print(mylist2)\n",
        "mylist3 = mylist2.reverse()\n",
        "print(mylist3)"
      ],
      "metadata": {
        "colab": {
          "base_uri": "https://localhost:8080/"
        },
        "id": "pBBjxKvdEPXE",
        "outputId": "9ce4918a-94c7-494d-8c0f-fa7d1c39d925"
      },
      "execution_count": null,
      "outputs": [
        {
          "output_type": "stream",
          "name": "stdout",
          "text": [
            "[2, 4, 5, 10, 15, 12, 69]\n",
            "None\n"
          ]
        }
      ]
    },
    {
      "cell_type": "markdown",
      "source": [
        "creating a new list with the same element multiple times"
      ],
      "metadata": {
        "id": "O8VKxfGeFfV-"
      }
    },
    {
      "cell_type": "code",
      "source": [
        "mylist = [0] * 5\n",
        "print(mylist)"
      ],
      "metadata": {
        "colab": {
          "base_uri": "https://localhost:8080/"
        },
        "id": "HXdPqc0qFhi0",
        "outputId": "87af2eba-3db0-4600-abd3-99020ff12b51"
      },
      "execution_count": null,
      "outputs": [
        {
          "output_type": "stream",
          "name": "stdout",
          "text": [
            "[0, 0, 0, 0, 0]\n"
          ]
        }
      ]
    },
    {
      "cell_type": "code",
      "source": [
        "new_list = [1,3,5,6,7]\n",
        "list2 = mylist + new_list\n",
        "print(list2)"
      ],
      "metadata": {
        "colab": {
          "base_uri": "https://localhost:8080/"
        },
        "id": "IK5gTe2oFmZF",
        "outputId": "47123087-b3c1-4630-98bc-1fba7bb964a5"
      },
      "execution_count": null,
      "outputs": [
        {
          "output_type": "stream",
          "name": "stdout",
          "text": [
            "[0, 0, 0, 0, 0, 1, 3, 5, 6, 7]\n"
          ]
        }
      ]
    },
    {
      "cell_type": "markdown",
      "source": [
        "slicing a list"
      ],
      "metadata": {
        "id": "GE4n0DiMFwUE"
      }
    },
    {
      "cell_type": "code",
      "source": [
        "a = list2[3:7]\n",
        "print(a)"
      ],
      "metadata": {
        "colab": {
          "base_uri": "https://localhost:8080/"
        },
        "id": "fhTMSrujFv0u",
        "outputId": "608f99e9-6205-4292-c2f3-3f4732b7aae7"
      },
      "execution_count": null,
      "outputs": [
        {
          "output_type": "stream",
          "name": "stdout",
          "text": [
            "[0, 0, 1, 3]\n"
          ]
        }
      ]
    },
    {
      "cell_type": "code",
      "source": [
        "# if don't specify start, starts at beginning, if no end is specified, goes until the end\n",
        "a = list2[:5]\n",
        "print(a)\n",
        "b = list2[3:]\n",
        "print(b)"
      ],
      "metadata": {
        "colab": {
          "base_uri": "https://localhost:8080/"
        },
        "id": "fZnhp_gOFiHL",
        "outputId": "288cde24-0984-4279-c448-fdf8517e9977"
      },
      "execution_count": null,
      "outputs": [
        {
          "output_type": "stream",
          "name": "stdout",
          "text": [
            "[0, 0, 0, 0, 0]\n",
            "[0, 0, 1, 3, 5, 6, 7]\n"
          ]
        }
      ]
    },
    {
      "cell_type": "code",
      "source": [
        "# step in slice\n",
        "c = list2[::1]\n",
        "print(c)\n",
        "d = list2[::-1]\n",
        "print(d)"
      ],
      "metadata": {
        "colab": {
          "base_uri": "https://localhost:8080/"
        },
        "id": "7BJVQS-DFiJr",
        "outputId": "b09c303f-acc0-4b6d-d25d-a995772780e2"
      },
      "execution_count": null,
      "outputs": [
        {
          "output_type": "stream",
          "name": "stdout",
          "text": [
            "[0, 0, 0, 0, 0, 1, 3, 5, 6, 7]\n",
            "[7, 6, 5, 3, 1, 0, 0, 0, 0, 0]\n"
          ]
        }
      ]
    },
    {
      "cell_type": "markdown",
      "source": [
        "when creating a copy of a list, if you apply a method to the copied list, it'll also apply to the original list"
      ],
      "metadata": {
        "id": "7Z-haaI_GqIN"
      }
    },
    {
      "cell_type": "code",
      "source": [
        "list_org = [\"banana\", \"strawberry\", \"mango\"]\n",
        "print(list_org)\n",
        "list_copy = list_org\n",
        "list_copy.append(\"grape\")\n",
        "print(list_copy)\n",
        "print(\"-------------\")\n",
        "print(list_org)"
      ],
      "metadata": {
        "colab": {
          "base_uri": "https://localhost:8080/"
        },
        "id": "m5GxO6fRFiL6",
        "outputId": "cce6ad51-a978-4935-b31f-0a638d066840"
      },
      "execution_count": null,
      "outputs": [
        {
          "output_type": "stream",
          "name": "stdout",
          "text": [
            "['banana', 'strawberry', 'mango']\n",
            "['banana', 'strawberry', 'mango', 'grape']\n",
            "-------------\n",
            "['banana', 'strawberry', 'mango', 'grape']\n"
          ]
        }
      ]
    },
    {
      "cell_type": "markdown",
      "source": [
        "IF YOU USE THE .COPY() METHOD, It'll copy the list to the new named variable w/o further methods changing the original list\n",
        "\n",
        "- can also use list() to create a copy"
      ],
      "metadata": {
        "id": "QMFtIoRZHIA9"
      }
    },
    {
      "cell_type": "code",
      "source": [
        "print(list_org)\n",
        "print(\"---------\")\n",
        "list_copy = list_org.copy()\n",
        "list_copy.append(\"dragonfruit\")\n",
        "print(list_copy)\n",
        "print(\"original list:\", list_org)"
      ],
      "metadata": {
        "colab": {
          "base_uri": "https://localhost:8080/"
        },
        "id": "C6cSY4MBHO5F",
        "outputId": "3398ebb2-cf0f-407d-e56f-9babb4066e60"
      },
      "execution_count": null,
      "outputs": [
        {
          "output_type": "stream",
          "name": "stdout",
          "text": [
            "['banana', 'strawberry', 'mango', 'grape']\n",
            "---------\n",
            "['banana', 'strawberry', 'mango', 'grape', 'dragonfruit']\n",
            "original list: ['banana', 'strawberry', 'mango', 'grape']\n"
          ]
        }
      ]
    },
    {
      "cell_type": "code",
      "source": [
        "list_again = list(list_org)\n",
        "print(list_again)\n",
        "list_again.insert(2, \"vanilla\")\n",
        "print(\"orginal list:\", list_org)\n",
        "print(\"copied list:\", list_again)"
      ],
      "metadata": {
        "colab": {
          "base_uri": "https://localhost:8080/"
        },
        "id": "rxGiqCb8FiOR",
        "outputId": "cf23dd66-b93d-4d2e-cd0e-e4b0449ffb46"
      },
      "execution_count": null,
      "outputs": [
        {
          "output_type": "stream",
          "name": "stdout",
          "text": [
            "['banana', 'strawberry', 'mango', 'grape']\n",
            "orginal list: ['banana', 'strawberry', 'mango', 'grape']\n",
            "copied list: ['banana', 'strawberry', 'vanilla', 'mango', 'grape']\n"
          ]
        }
      ]
    },
    {
      "cell_type": "markdown",
      "source": [
        "#### LIST COMPREHENSION"
      ],
      "metadata": {
        "id": "z5c-wYjzIEpo"
      }
    },
    {
      "cell_type": "code",
      "source": [
        "my_list = [1,2,3,4,5,6]\n",
        "b = [i * i for i in my_list]\n",
        "print(my_list)\n",
        "print(b)\n"
      ],
      "metadata": {
        "colab": {
          "base_uri": "https://localhost:8080/"
        },
        "id": "YFyNOsohFiQs",
        "outputId": "b2d7fa52-5f8a-4610-fb53-55820aa7e7be"
      },
      "execution_count": null,
      "outputs": [
        {
          "output_type": "stream",
          "name": "stdout",
          "text": [
            "[1, 2, 3, 4, 5, 6]\n",
            "[1, 4, 9, 16, 25, 36]\n"
          ]
        }
      ]
    },
    {
      "cell_type": "code",
      "source": [],
      "metadata": {
        "id": "ST_Yhb8kFiS0"
      },
      "execution_count": null,
      "outputs": []
    },
    {
      "cell_type": "code",
      "source": [],
      "metadata": {
        "id": "ooyY9Vd_FiU9"
      },
      "execution_count": null,
      "outputs": []
    },
    {
      "cell_type": "code",
      "source": [],
      "metadata": {
        "id": "OCRaKb2PFeTW"
      },
      "execution_count": null,
      "outputs": []
    }
  ]
}