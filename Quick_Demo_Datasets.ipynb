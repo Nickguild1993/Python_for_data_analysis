{
  "nbformat": 4,
  "nbformat_minor": 0,
  "metadata": {
    "colab": {
      "provenance": [],
      "authorship_tag": "ABX9TyPyhduqT+GirSh3rSs5U6UX",
      "include_colab_link": true
    },
    "kernelspec": {
      "name": "python3",
      "display_name": "Python 3"
    },
    "language_info": {
      "name": "python"
    }
  },
  "cells": [
    {
      "cell_type": "markdown",
      "metadata": {
        "id": "view-in-github",
        "colab_type": "text"
      },
      "source": [
        "<a href=\"https://colab.research.google.com/github/Nickguild1993/Python_for_data_analysis/blob/main/Quick_Demo_Datasets.ipynb\" target=\"_parent\"><img src=\"https://colab.research.google.com/assets/colab-badge.svg\" alt=\"Open In Colab\"/></a>"
      ]
    },
    {
      "cell_type": "markdown",
      "source": [
        "Quick demos of how to use python for data analysis"
      ],
      "metadata": {
        "id": "WY7PJzIoyALT"
      }
    },
    {
      "cell_type": "code",
      "execution_count": 1,
      "metadata": {
        "id": "b-GrVqcix9MD"
      },
      "outputs": [],
      "source": [
        "# Import libraries- also referred to as dependencies/packages \n",
        "\n",
        "import pandas as pd # *the* library for data analysis\n",
        "import numpy as np # linear algebra library which is what many other libraries, including pandas is built on \n",
        "\n",
        "import random\n",
        "from random import random\n",
        "\n",
        "import seaborn as sns # Advanced visualization library \n",
        "import matplotlib.pyplot as plt # Basic visualization library"
      ]
    },
    {
      "cell_type": "markdown",
      "source": [
        "#### Hello World"
      ],
      "metadata": {
        "id": "rQEwzpkjYVWM"
      }
    },
    {
      "cell_type": "code",
      "source": [
        "print(\"Hello World\")"
      ],
      "metadata": {
        "colab": {
          "base_uri": "https://localhost:8080/"
        },
        "id": "EYP1hzdpYcCM",
        "outputId": "919370e7-ef9c-4def-dc93-15f35164a06a"
      },
      "execution_count": 12,
      "outputs": [
        {
          "output_type": "stream",
          "name": "stdout",
          "text": [
            "Hello World\n"
          ]
        }
      ]
    },
    {
      "cell_type": "code",
      "source": [
        "def say_hello():\n",
        "  print(\"Hello world\")\n",
        "say_hello()"
      ],
      "metadata": {
        "colab": {
          "base_uri": "https://localhost:8080/"
        },
        "id": "3HhqJlviYgIO",
        "outputId": "fbe849fd-4ba6-4954-cc2b-b09d453bcae2"
      },
      "execution_count": 14,
      "outputs": [
        {
          "output_type": "stream",
          "name": "stdout",
          "text": [
            "Hello world\n"
          ]
        }
      ]
    },
    {
      "cell_type": "code",
      "source": [
        "def say_something(something):\n",
        "  print(something)\n",
        "say_something(\"Good morning\")"
      ],
      "metadata": {
        "colab": {
          "base_uri": "https://localhost:8080/"
        },
        "id": "neiKUM90YqAb",
        "outputId": "7d7398f3-925e-4fa5-e88b-042a803edff3"
      },
      "execution_count": 15,
      "outputs": [
        {
          "output_type": "stream",
          "name": "stdout",
          "text": [
            "Good morning\n"
          ]
        }
      ]
    },
    {
      "cell_type": "code",
      "source": [
        "x = np.random.randint(1,10)\n",
        "if x > 6:\n",
        "  print(\"X is greater than 6\")\n",
        "else:\n",
        "  print(x, \"is not greater than 6\")"
      ],
      "metadata": {
        "colab": {
          "base_uri": "https://localhost:8080/"
        },
        "id": "tDw_d-mmZ59j",
        "outputId": "32935e58-c0c4-4716-bd2b-64c1cb0d07e7"
      },
      "execution_count": 20,
      "outputs": [
        {
          "output_type": "stream",
          "name": "stdout",
          "text": [
            "1 is not greater than 6\n"
          ]
        }
      ]
    },
    {
      "cell_type": "code",
      "source": [
        "fruit = \"orange\"\n",
        "\n",
        "if \"a\" in fruit:\n",
        "  print(\"there is an A in orange\")\n",
        "else:\n",
        "  print(\"There is not an A in orange\")"
      ],
      "metadata": {
        "colab": {
          "base_uri": "https://localhost:8080/"
        },
        "id": "-jxJlg5rajei",
        "outputId": "46155e63-84b7-4c7c-bc2f-ae934769fc53"
      },
      "execution_count": 23,
      "outputs": [
        {
          "output_type": "stream",
          "name": "stdout",
          "text": [
            "there is an A in orange\n"
          ]
        }
      ]
    },
    {
      "cell_type": "markdown",
      "source": [
        "#### Creating a housing market dataset "
      ],
      "metadata": {
        "id": "K6hl8FjzVOvI"
      }
    },
    {
      "cell_type": "markdown",
      "source": [
        "Creating three seperate series, all of which have 100 observations"
      ],
      "metadata": {
        "id": "P0rt2QVrVXgn"
      }
    },
    {
      "cell_type": "code",
      "source": [
        "series1 = np.random.randint(1,5,100) # the first number is the low end of the range, and *IS* inclusive.  The second number is the high of the range, and is NOT inclusive. Third number is # observations\n",
        "\n",
        "series2 = np.random.randint(1,4,100)\n",
        "\n",
        "series3 = np.random.randint(100,301, 100)"
      ],
      "metadata": {
        "id": "jWNLt6v7VGzA"
      },
      "execution_count": 2,
      "outputs": []
    },
    {
      "cell_type": "code",
      "source": [
        "print(series1.dtype)"
      ],
      "metadata": {
        "colab": {
          "base_uri": "https://localhost:8080/"
        },
        "id": "dZcNDHvIV0Ry",
        "outputId": "72c698ec-3dab-4120-d81c-d084d7ad5c1b"
      },
      "execution_count": 3,
      "outputs": [
        {
          "output_type": "stream",
          "name": "stdout",
          "text": [
            "int64\n"
          ]
        }
      ]
    },
    {
      "cell_type": "markdown",
      "source": [
        "Create a dataframe from these three series"
      ],
      "metadata": {
        "id": "-2lMye0QV5Ei"
      }
    },
    {
      "cell_type": "code",
      "source": [
        "df = pd.DataFrame({\"beds\": series1,\n",
        "                   \"baths\" : series2,\n",
        "                   \"price_sqr_foot\" : series3})\n",
        "\n",
        "df.head(5)"
      ],
      "metadata": {
        "colab": {
          "base_uri": "https://localhost:8080/",
          "height": 206
        },
        "id": "Th3Efw_iV3sD",
        "outputId": "546af7ea-dff2-4078-c929-1f16235644ba"
      },
      "execution_count": 5,
      "outputs": [
        {
          "output_type": "execute_result",
          "data": {
            "text/plain": [
              "   beds  baths  price_sqr_foot\n",
              "0     3      2             233\n",
              "1     4      3             162\n",
              "2     2      2             185\n",
              "3     3      1             207\n",
              "4     2      2             175"
            ],
            "text/html": [
              "\n",
              "  <div id=\"df-d99f7d18-636c-4f0e-9029-0d4c0ec52c37\">\n",
              "    <div class=\"colab-df-container\">\n",
              "      <div>\n",
              "<style scoped>\n",
              "    .dataframe tbody tr th:only-of-type {\n",
              "        vertical-align: middle;\n",
              "    }\n",
              "\n",
              "    .dataframe tbody tr th {\n",
              "        vertical-align: top;\n",
              "    }\n",
              "\n",
              "    .dataframe thead th {\n",
              "        text-align: right;\n",
              "    }\n",
              "</style>\n",
              "<table border=\"1\" class=\"dataframe\">\n",
              "  <thead>\n",
              "    <tr style=\"text-align: right;\">\n",
              "      <th></th>\n",
              "      <th>beds</th>\n",
              "      <th>baths</th>\n",
              "      <th>price_sqr_foot</th>\n",
              "    </tr>\n",
              "  </thead>\n",
              "  <tbody>\n",
              "    <tr>\n",
              "      <th>0</th>\n",
              "      <td>3</td>\n",
              "      <td>2</td>\n",
              "      <td>233</td>\n",
              "    </tr>\n",
              "    <tr>\n",
              "      <th>1</th>\n",
              "      <td>4</td>\n",
              "      <td>3</td>\n",
              "      <td>162</td>\n",
              "    </tr>\n",
              "    <tr>\n",
              "      <th>2</th>\n",
              "      <td>2</td>\n",
              "      <td>2</td>\n",
              "      <td>185</td>\n",
              "    </tr>\n",
              "    <tr>\n",
              "      <th>3</th>\n",
              "      <td>3</td>\n",
              "      <td>1</td>\n",
              "      <td>207</td>\n",
              "    </tr>\n",
              "    <tr>\n",
              "      <th>4</th>\n",
              "      <td>2</td>\n",
              "      <td>2</td>\n",
              "      <td>175</td>\n",
              "    </tr>\n",
              "  </tbody>\n",
              "</table>\n",
              "</div>\n",
              "      <button class=\"colab-df-convert\" onclick=\"convertToInteractive('df-d99f7d18-636c-4f0e-9029-0d4c0ec52c37')\"\n",
              "              title=\"Convert this dataframe to an interactive table.\"\n",
              "              style=\"display:none;\">\n",
              "        \n",
              "  <svg xmlns=\"http://www.w3.org/2000/svg\" height=\"24px\"viewBox=\"0 0 24 24\"\n",
              "       width=\"24px\">\n",
              "    <path d=\"M0 0h24v24H0V0z\" fill=\"none\"/>\n",
              "    <path d=\"M18.56 5.44l.94 2.06.94-2.06 2.06-.94-2.06-.94-.94-2.06-.94 2.06-2.06.94zm-11 1L8.5 8.5l.94-2.06 2.06-.94-2.06-.94L8.5 2.5l-.94 2.06-2.06.94zm10 10l.94 2.06.94-2.06 2.06-.94-2.06-.94-.94-2.06-.94 2.06-2.06.94z\"/><path d=\"M17.41 7.96l-1.37-1.37c-.4-.4-.92-.59-1.43-.59-.52 0-1.04.2-1.43.59L10.3 9.45l-7.72 7.72c-.78.78-.78 2.05 0 2.83L4 21.41c.39.39.9.59 1.41.59.51 0 1.02-.2 1.41-.59l7.78-7.78 2.81-2.81c.8-.78.8-2.07 0-2.86zM5.41 20L4 18.59l7.72-7.72 1.47 1.35L5.41 20z\"/>\n",
              "  </svg>\n",
              "      </button>\n",
              "      \n",
              "  <style>\n",
              "    .colab-df-container {\n",
              "      display:flex;\n",
              "      flex-wrap:wrap;\n",
              "      gap: 12px;\n",
              "    }\n",
              "\n",
              "    .colab-df-convert {\n",
              "      background-color: #E8F0FE;\n",
              "      border: none;\n",
              "      border-radius: 50%;\n",
              "      cursor: pointer;\n",
              "      display: none;\n",
              "      fill: #1967D2;\n",
              "      height: 32px;\n",
              "      padding: 0 0 0 0;\n",
              "      width: 32px;\n",
              "    }\n",
              "\n",
              "    .colab-df-convert:hover {\n",
              "      background-color: #E2EBFA;\n",
              "      box-shadow: 0px 1px 2px rgba(60, 64, 67, 0.3), 0px 1px 3px 1px rgba(60, 64, 67, 0.15);\n",
              "      fill: #174EA6;\n",
              "    }\n",
              "\n",
              "    [theme=dark] .colab-df-convert {\n",
              "      background-color: #3B4455;\n",
              "      fill: #D2E3FC;\n",
              "    }\n",
              "\n",
              "    [theme=dark] .colab-df-convert:hover {\n",
              "      background-color: #434B5C;\n",
              "      box-shadow: 0px 1px 3px 1px rgba(0, 0, 0, 0.15);\n",
              "      filter: drop-shadow(0px 1px 2px rgba(0, 0, 0, 0.3));\n",
              "      fill: #FFFFFF;\n",
              "    }\n",
              "  </style>\n",
              "\n",
              "      <script>\n",
              "        const buttonEl =\n",
              "          document.querySelector('#df-d99f7d18-636c-4f0e-9029-0d4c0ec52c37 button.colab-df-convert');\n",
              "        buttonEl.style.display =\n",
              "          google.colab.kernel.accessAllowed ? 'block' : 'none';\n",
              "\n",
              "        async function convertToInteractive(key) {\n",
              "          const element = document.querySelector('#df-d99f7d18-636c-4f0e-9029-0d4c0ec52c37');\n",
              "          const dataTable =\n",
              "            await google.colab.kernel.invokeFunction('convertToInteractive',\n",
              "                                                     [key], {});\n",
              "          if (!dataTable) return;\n",
              "\n",
              "          const docLinkHtml = 'Like what you see? Visit the ' +\n",
              "            '<a target=\"_blank\" href=https://colab.research.google.com/notebooks/data_table.ipynb>data table notebook</a>'\n",
              "            + ' to learn more about interactive tables.';\n",
              "          element.innerHTML = '';\n",
              "          dataTable['output_type'] = 'display_data';\n",
              "          await google.colab.output.renderOutput(dataTable, element);\n",
              "          const docLink = document.createElement('div');\n",
              "          docLink.innerHTML = docLinkHtml;\n",
              "          element.appendChild(docLink);\n",
              "        }\n",
              "      </script>\n",
              "    </div>\n",
              "  </div>\n",
              "  "
            ]
          },
          "metadata": {},
          "execution_count": 5
        }
      ]
    },
    {
      "cell_type": "markdown",
      "source": [
        "Adding a new column to the DataFrame"
      ],
      "metadata": {
        "id": "aR9HBva3WPb6"
      }
    },
    {
      "cell_type": "code",
      "source": [
        "series4 = np.random.randint(1000,4001, 100) \n",
        "\n",
        "df.insert(3, \"square_footage\", series4) # first argument is the location you want the column (zero indexing so, \"3\" is column 4)\n",
        "\n",
        "df.sample(5)"
      ],
      "metadata": {
        "colab": {
          "base_uri": "https://localhost:8080/",
          "height": 206
        },
        "id": "U_IjxcNlWHqe",
        "outputId": "2df1ccb7-8d0b-47c4-9862-eac136d873c6"
      },
      "execution_count": 6,
      "outputs": [
        {
          "output_type": "execute_result",
          "data": {
            "text/plain": [
              "    beds  baths  price_sqr_foot  square_footage\n",
              "31     4      3             111            1805\n",
              "0      3      2             233            3458\n",
              "91     4      1             227            1646\n",
              "5      1      2             146            2526\n",
              "3      3      1             207            1657"
            ],
            "text/html": [
              "\n",
              "  <div id=\"df-1c8f37df-a1d9-427b-b6ed-82611614958f\">\n",
              "    <div class=\"colab-df-container\">\n",
              "      <div>\n",
              "<style scoped>\n",
              "    .dataframe tbody tr th:only-of-type {\n",
              "        vertical-align: middle;\n",
              "    }\n",
              "\n",
              "    .dataframe tbody tr th {\n",
              "        vertical-align: top;\n",
              "    }\n",
              "\n",
              "    .dataframe thead th {\n",
              "        text-align: right;\n",
              "    }\n",
              "</style>\n",
              "<table border=\"1\" class=\"dataframe\">\n",
              "  <thead>\n",
              "    <tr style=\"text-align: right;\">\n",
              "      <th></th>\n",
              "      <th>beds</th>\n",
              "      <th>baths</th>\n",
              "      <th>price_sqr_foot</th>\n",
              "      <th>square_footage</th>\n",
              "    </tr>\n",
              "  </thead>\n",
              "  <tbody>\n",
              "    <tr>\n",
              "      <th>31</th>\n",
              "      <td>4</td>\n",
              "      <td>3</td>\n",
              "      <td>111</td>\n",
              "      <td>1805</td>\n",
              "    </tr>\n",
              "    <tr>\n",
              "      <th>0</th>\n",
              "      <td>3</td>\n",
              "      <td>2</td>\n",
              "      <td>233</td>\n",
              "      <td>3458</td>\n",
              "    </tr>\n",
              "    <tr>\n",
              "      <th>91</th>\n",
              "      <td>4</td>\n",
              "      <td>1</td>\n",
              "      <td>227</td>\n",
              "      <td>1646</td>\n",
              "    </tr>\n",
              "    <tr>\n",
              "      <th>5</th>\n",
              "      <td>1</td>\n",
              "      <td>2</td>\n",
              "      <td>146</td>\n",
              "      <td>2526</td>\n",
              "    </tr>\n",
              "    <tr>\n",
              "      <th>3</th>\n",
              "      <td>3</td>\n",
              "      <td>1</td>\n",
              "      <td>207</td>\n",
              "      <td>1657</td>\n",
              "    </tr>\n",
              "  </tbody>\n",
              "</table>\n",
              "</div>\n",
              "      <button class=\"colab-df-convert\" onclick=\"convertToInteractive('df-1c8f37df-a1d9-427b-b6ed-82611614958f')\"\n",
              "              title=\"Convert this dataframe to an interactive table.\"\n",
              "              style=\"display:none;\">\n",
              "        \n",
              "  <svg xmlns=\"http://www.w3.org/2000/svg\" height=\"24px\"viewBox=\"0 0 24 24\"\n",
              "       width=\"24px\">\n",
              "    <path d=\"M0 0h24v24H0V0z\" fill=\"none\"/>\n",
              "    <path d=\"M18.56 5.44l.94 2.06.94-2.06 2.06-.94-2.06-.94-.94-2.06-.94 2.06-2.06.94zm-11 1L8.5 8.5l.94-2.06 2.06-.94-2.06-.94L8.5 2.5l-.94 2.06-2.06.94zm10 10l.94 2.06.94-2.06 2.06-.94-2.06-.94-.94-2.06-.94 2.06-2.06.94z\"/><path d=\"M17.41 7.96l-1.37-1.37c-.4-.4-.92-.59-1.43-.59-.52 0-1.04.2-1.43.59L10.3 9.45l-7.72 7.72c-.78.78-.78 2.05 0 2.83L4 21.41c.39.39.9.59 1.41.59.51 0 1.02-.2 1.41-.59l7.78-7.78 2.81-2.81c.8-.78.8-2.07 0-2.86zM5.41 20L4 18.59l7.72-7.72 1.47 1.35L5.41 20z\"/>\n",
              "  </svg>\n",
              "      </button>\n",
              "      \n",
              "  <style>\n",
              "    .colab-df-container {\n",
              "      display:flex;\n",
              "      flex-wrap:wrap;\n",
              "      gap: 12px;\n",
              "    }\n",
              "\n",
              "    .colab-df-convert {\n",
              "      background-color: #E8F0FE;\n",
              "      border: none;\n",
              "      border-radius: 50%;\n",
              "      cursor: pointer;\n",
              "      display: none;\n",
              "      fill: #1967D2;\n",
              "      height: 32px;\n",
              "      padding: 0 0 0 0;\n",
              "      width: 32px;\n",
              "    }\n",
              "\n",
              "    .colab-df-convert:hover {\n",
              "      background-color: #E2EBFA;\n",
              "      box-shadow: 0px 1px 2px rgba(60, 64, 67, 0.3), 0px 1px 3px 1px rgba(60, 64, 67, 0.15);\n",
              "      fill: #174EA6;\n",
              "    }\n",
              "\n",
              "    [theme=dark] .colab-df-convert {\n",
              "      background-color: #3B4455;\n",
              "      fill: #D2E3FC;\n",
              "    }\n",
              "\n",
              "    [theme=dark] .colab-df-convert:hover {\n",
              "      background-color: #434B5C;\n",
              "      box-shadow: 0px 1px 3px 1px rgba(0, 0, 0, 0.15);\n",
              "      filter: drop-shadow(0px 1px 2px rgba(0, 0, 0, 0.3));\n",
              "      fill: #FFFFFF;\n",
              "    }\n",
              "  </style>\n",
              "\n",
              "      <script>\n",
              "        const buttonEl =\n",
              "          document.querySelector('#df-1c8f37df-a1d9-427b-b6ed-82611614958f button.colab-df-convert');\n",
              "        buttonEl.style.display =\n",
              "          google.colab.kernel.accessAllowed ? 'block' : 'none';\n",
              "\n",
              "        async function convertToInteractive(key) {\n",
              "          const element = document.querySelector('#df-1c8f37df-a1d9-427b-b6ed-82611614958f');\n",
              "          const dataTable =\n",
              "            await google.colab.kernel.invokeFunction('convertToInteractive',\n",
              "                                                     [key], {});\n",
              "          if (!dataTable) return;\n",
              "\n",
              "          const docLinkHtml = 'Like what you see? Visit the ' +\n",
              "            '<a target=\"_blank\" href=https://colab.research.google.com/notebooks/data_table.ipynb>data table notebook</a>'\n",
              "            + ' to learn more about interactive tables.';\n",
              "          element.innerHTML = '';\n",
              "          dataTable['output_type'] = 'display_data';\n",
              "          await google.colab.output.renderOutput(dataTable, element);\n",
              "          const docLink = document.createElement('div');\n",
              "          docLink.innerHTML = docLinkHtml;\n",
              "          element.appendChild(docLink);\n",
              "        }\n",
              "      </script>\n",
              "    </div>\n",
              "  </div>\n",
              "  "
            ]
          },
          "metadata": {},
          "execution_count": 6
        }
      ]
    },
    {
      "cell_type": "markdown",
      "source": [
        "Adding a computed column"
      ],
      "metadata": {
        "id": "PBVoNQ3IWiz9"
      }
    },
    {
      "cell_type": "code",
      "source": [
        "df[\"price\"] = df[\"price_sqr_foot\"] * df[\"square_footage\"]\n",
        "\n",
        "df.head(3)"
      ],
      "metadata": {
        "colab": {
          "base_uri": "https://localhost:8080/",
          "height": 143
        },
        "id": "_BukgupnWdVI",
        "outputId": "06fadedf-7e69-4cba-a8ab-575d340f0787"
      },
      "execution_count": 7,
      "outputs": [
        {
          "output_type": "execute_result",
          "data": {
            "text/plain": [
              "   beds  baths  price_sqr_foot  square_footage   price\n",
              "0     3      2             233            3458  805714\n",
              "1     4      3             162            2524  408888\n",
              "2     2      2             185            3561  658785"
            ],
            "text/html": [
              "\n",
              "  <div id=\"df-f382287e-a5ab-452c-9c16-1fde987cfa1d\">\n",
              "    <div class=\"colab-df-container\">\n",
              "      <div>\n",
              "<style scoped>\n",
              "    .dataframe tbody tr th:only-of-type {\n",
              "        vertical-align: middle;\n",
              "    }\n",
              "\n",
              "    .dataframe tbody tr th {\n",
              "        vertical-align: top;\n",
              "    }\n",
              "\n",
              "    .dataframe thead th {\n",
              "        text-align: right;\n",
              "    }\n",
              "</style>\n",
              "<table border=\"1\" class=\"dataframe\">\n",
              "  <thead>\n",
              "    <tr style=\"text-align: right;\">\n",
              "      <th></th>\n",
              "      <th>beds</th>\n",
              "      <th>baths</th>\n",
              "      <th>price_sqr_foot</th>\n",
              "      <th>square_footage</th>\n",
              "      <th>price</th>\n",
              "    </tr>\n",
              "  </thead>\n",
              "  <tbody>\n",
              "    <tr>\n",
              "      <th>0</th>\n",
              "      <td>3</td>\n",
              "      <td>2</td>\n",
              "      <td>233</td>\n",
              "      <td>3458</td>\n",
              "      <td>805714</td>\n",
              "    </tr>\n",
              "    <tr>\n",
              "      <th>1</th>\n",
              "      <td>4</td>\n",
              "      <td>3</td>\n",
              "      <td>162</td>\n",
              "      <td>2524</td>\n",
              "      <td>408888</td>\n",
              "    </tr>\n",
              "    <tr>\n",
              "      <th>2</th>\n",
              "      <td>2</td>\n",
              "      <td>2</td>\n",
              "      <td>185</td>\n",
              "      <td>3561</td>\n",
              "      <td>658785</td>\n",
              "    </tr>\n",
              "  </tbody>\n",
              "</table>\n",
              "</div>\n",
              "      <button class=\"colab-df-convert\" onclick=\"convertToInteractive('df-f382287e-a5ab-452c-9c16-1fde987cfa1d')\"\n",
              "              title=\"Convert this dataframe to an interactive table.\"\n",
              "              style=\"display:none;\">\n",
              "        \n",
              "  <svg xmlns=\"http://www.w3.org/2000/svg\" height=\"24px\"viewBox=\"0 0 24 24\"\n",
              "       width=\"24px\">\n",
              "    <path d=\"M0 0h24v24H0V0z\" fill=\"none\"/>\n",
              "    <path d=\"M18.56 5.44l.94 2.06.94-2.06 2.06-.94-2.06-.94-.94-2.06-.94 2.06-2.06.94zm-11 1L8.5 8.5l.94-2.06 2.06-.94-2.06-.94L8.5 2.5l-.94 2.06-2.06.94zm10 10l.94 2.06.94-2.06 2.06-.94-2.06-.94-.94-2.06-.94 2.06-2.06.94z\"/><path d=\"M17.41 7.96l-1.37-1.37c-.4-.4-.92-.59-1.43-.59-.52 0-1.04.2-1.43.59L10.3 9.45l-7.72 7.72c-.78.78-.78 2.05 0 2.83L4 21.41c.39.39.9.59 1.41.59.51 0 1.02-.2 1.41-.59l7.78-7.78 2.81-2.81c.8-.78.8-2.07 0-2.86zM5.41 20L4 18.59l7.72-7.72 1.47 1.35L5.41 20z\"/>\n",
              "  </svg>\n",
              "      </button>\n",
              "      \n",
              "  <style>\n",
              "    .colab-df-container {\n",
              "      display:flex;\n",
              "      flex-wrap:wrap;\n",
              "      gap: 12px;\n",
              "    }\n",
              "\n",
              "    .colab-df-convert {\n",
              "      background-color: #E8F0FE;\n",
              "      border: none;\n",
              "      border-radius: 50%;\n",
              "      cursor: pointer;\n",
              "      display: none;\n",
              "      fill: #1967D2;\n",
              "      height: 32px;\n",
              "      padding: 0 0 0 0;\n",
              "      width: 32px;\n",
              "    }\n",
              "\n",
              "    .colab-df-convert:hover {\n",
              "      background-color: #E2EBFA;\n",
              "      box-shadow: 0px 1px 2px rgba(60, 64, 67, 0.3), 0px 1px 3px 1px rgba(60, 64, 67, 0.15);\n",
              "      fill: #174EA6;\n",
              "    }\n",
              "\n",
              "    [theme=dark] .colab-df-convert {\n",
              "      background-color: #3B4455;\n",
              "      fill: #D2E3FC;\n",
              "    }\n",
              "\n",
              "    [theme=dark] .colab-df-convert:hover {\n",
              "      background-color: #434B5C;\n",
              "      box-shadow: 0px 1px 3px 1px rgba(0, 0, 0, 0.15);\n",
              "      filter: drop-shadow(0px 1px 2px rgba(0, 0, 0, 0.3));\n",
              "      fill: #FFFFFF;\n",
              "    }\n",
              "  </style>\n",
              "\n",
              "      <script>\n",
              "        const buttonEl =\n",
              "          document.querySelector('#df-f382287e-a5ab-452c-9c16-1fde987cfa1d button.colab-df-convert');\n",
              "        buttonEl.style.display =\n",
              "          google.colab.kernel.accessAllowed ? 'block' : 'none';\n",
              "\n",
              "        async function convertToInteractive(key) {\n",
              "          const element = document.querySelector('#df-f382287e-a5ab-452c-9c16-1fde987cfa1d');\n",
              "          const dataTable =\n",
              "            await google.colab.kernel.invokeFunction('convertToInteractive',\n",
              "                                                     [key], {});\n",
              "          if (!dataTable) return;\n",
              "\n",
              "          const docLinkHtml = 'Like what you see? Visit the ' +\n",
              "            '<a target=\"_blank\" href=https://colab.research.google.com/notebooks/data_table.ipynb>data table notebook</a>'\n",
              "            + ' to learn more about interactive tables.';\n",
              "          element.innerHTML = '';\n",
              "          dataTable['output_type'] = 'display_data';\n",
              "          await google.colab.output.renderOutput(dataTable, element);\n",
              "          const docLink = document.createElement('div');\n",
              "          docLink.innerHTML = docLinkHtml;\n",
              "          element.appendChild(docLink);\n",
              "        }\n",
              "      </script>\n",
              "    </div>\n",
              "  </div>\n",
              "  "
            ]
          },
          "metadata": {},
          "execution_count": 7
        }
      ]
    },
    {
      "cell_type": "markdown",
      "source": [
        "Formatting the data"
      ],
      "metadata": {
        "id": "t4DTMVlyW4YH"
      }
    },
    {
      "cell_type": "code",
      "source": [
        "df.columns  = df.columns.str.capitalize()\n",
        "df.head(3)"
      ],
      "metadata": {
        "id": "29jp8FAEWsg2"
      },
      "execution_count": 9,
      "outputs": []
    },
    {
      "cell_type": "code",
      "source": [
        "df[\"Price\"] = df[\"Price\"].map(\"${0:,.2f}\".format)\n",
        "df.head(3)"
      ],
      "metadata": {
        "colab": {
          "base_uri": "https://localhost:8080/",
          "height": 143
        },
        "id": "siyrWnR7Xkht",
        "outputId": "1fc91844-3981-40ba-8a3c-6e93f2813f8d"
      },
      "execution_count": 11,
      "outputs": [
        {
          "output_type": "execute_result",
          "data": {
            "text/plain": [
              "   Beds  Baths  Price_sqr_foot  Square_footage        Price\n",
              "0     3      2             233            3458  $805,714.00\n",
              "1     4      3             162            2524  $408,888.00\n",
              "2     2      2             185            3561  $658,785.00"
            ],
            "text/html": [
              "\n",
              "  <div id=\"df-8280338d-f718-48eb-9580-e9fd33b179b7\">\n",
              "    <div class=\"colab-df-container\">\n",
              "      <div>\n",
              "<style scoped>\n",
              "    .dataframe tbody tr th:only-of-type {\n",
              "        vertical-align: middle;\n",
              "    }\n",
              "\n",
              "    .dataframe tbody tr th {\n",
              "        vertical-align: top;\n",
              "    }\n",
              "\n",
              "    .dataframe thead th {\n",
              "        text-align: right;\n",
              "    }\n",
              "</style>\n",
              "<table border=\"1\" class=\"dataframe\">\n",
              "  <thead>\n",
              "    <tr style=\"text-align: right;\">\n",
              "      <th></th>\n",
              "      <th>Beds</th>\n",
              "      <th>Baths</th>\n",
              "      <th>Price_sqr_foot</th>\n",
              "      <th>Square_footage</th>\n",
              "      <th>Price</th>\n",
              "    </tr>\n",
              "  </thead>\n",
              "  <tbody>\n",
              "    <tr>\n",
              "      <th>0</th>\n",
              "      <td>3</td>\n",
              "      <td>2</td>\n",
              "      <td>233</td>\n",
              "      <td>3458</td>\n",
              "      <td>$805,714.00</td>\n",
              "    </tr>\n",
              "    <tr>\n",
              "      <th>1</th>\n",
              "      <td>4</td>\n",
              "      <td>3</td>\n",
              "      <td>162</td>\n",
              "      <td>2524</td>\n",
              "      <td>$408,888.00</td>\n",
              "    </tr>\n",
              "    <tr>\n",
              "      <th>2</th>\n",
              "      <td>2</td>\n",
              "      <td>2</td>\n",
              "      <td>185</td>\n",
              "      <td>3561</td>\n",
              "      <td>$658,785.00</td>\n",
              "    </tr>\n",
              "  </tbody>\n",
              "</table>\n",
              "</div>\n",
              "      <button class=\"colab-df-convert\" onclick=\"convertToInteractive('df-8280338d-f718-48eb-9580-e9fd33b179b7')\"\n",
              "              title=\"Convert this dataframe to an interactive table.\"\n",
              "              style=\"display:none;\">\n",
              "        \n",
              "  <svg xmlns=\"http://www.w3.org/2000/svg\" height=\"24px\"viewBox=\"0 0 24 24\"\n",
              "       width=\"24px\">\n",
              "    <path d=\"M0 0h24v24H0V0z\" fill=\"none\"/>\n",
              "    <path d=\"M18.56 5.44l.94 2.06.94-2.06 2.06-.94-2.06-.94-.94-2.06-.94 2.06-2.06.94zm-11 1L8.5 8.5l.94-2.06 2.06-.94-2.06-.94L8.5 2.5l-.94 2.06-2.06.94zm10 10l.94 2.06.94-2.06 2.06-.94-2.06-.94-.94-2.06-.94 2.06-2.06.94z\"/><path d=\"M17.41 7.96l-1.37-1.37c-.4-.4-.92-.59-1.43-.59-.52 0-1.04.2-1.43.59L10.3 9.45l-7.72 7.72c-.78.78-.78 2.05 0 2.83L4 21.41c.39.39.9.59 1.41.59.51 0 1.02-.2 1.41-.59l7.78-7.78 2.81-2.81c.8-.78.8-2.07 0-2.86zM5.41 20L4 18.59l7.72-7.72 1.47 1.35L5.41 20z\"/>\n",
              "  </svg>\n",
              "      </button>\n",
              "      \n",
              "  <style>\n",
              "    .colab-df-container {\n",
              "      display:flex;\n",
              "      flex-wrap:wrap;\n",
              "      gap: 12px;\n",
              "    }\n",
              "\n",
              "    .colab-df-convert {\n",
              "      background-color: #E8F0FE;\n",
              "      border: none;\n",
              "      border-radius: 50%;\n",
              "      cursor: pointer;\n",
              "      display: none;\n",
              "      fill: #1967D2;\n",
              "      height: 32px;\n",
              "      padding: 0 0 0 0;\n",
              "      width: 32px;\n",
              "    }\n",
              "\n",
              "    .colab-df-convert:hover {\n",
              "      background-color: #E2EBFA;\n",
              "      box-shadow: 0px 1px 2px rgba(60, 64, 67, 0.3), 0px 1px 3px 1px rgba(60, 64, 67, 0.15);\n",
              "      fill: #174EA6;\n",
              "    }\n",
              "\n",
              "    [theme=dark] .colab-df-convert {\n",
              "      background-color: #3B4455;\n",
              "      fill: #D2E3FC;\n",
              "    }\n",
              "\n",
              "    [theme=dark] .colab-df-convert:hover {\n",
              "      background-color: #434B5C;\n",
              "      box-shadow: 0px 1px 3px 1px rgba(0, 0, 0, 0.15);\n",
              "      filter: drop-shadow(0px 1px 2px rgba(0, 0, 0, 0.3));\n",
              "      fill: #FFFFFF;\n",
              "    }\n",
              "  </style>\n",
              "\n",
              "      <script>\n",
              "        const buttonEl =\n",
              "          document.querySelector('#df-8280338d-f718-48eb-9580-e9fd33b179b7 button.colab-df-convert');\n",
              "        buttonEl.style.display =\n",
              "          google.colab.kernel.accessAllowed ? 'block' : 'none';\n",
              "\n",
              "        async function convertToInteractive(key) {\n",
              "          const element = document.querySelector('#df-8280338d-f718-48eb-9580-e9fd33b179b7');\n",
              "          const dataTable =\n",
              "            await google.colab.kernel.invokeFunction('convertToInteractive',\n",
              "                                                     [key], {});\n",
              "          if (!dataTable) return;\n",
              "\n",
              "          const docLinkHtml = 'Like what you see? Visit the ' +\n",
              "            '<a target=\"_blank\" href=https://colab.research.google.com/notebooks/data_table.ipynb>data table notebook</a>'\n",
              "            + ' to learn more about interactive tables.';\n",
              "          element.innerHTML = '';\n",
              "          dataTable['output_type'] = 'display_data';\n",
              "          await google.colab.output.renderOutput(dataTable, element);\n",
              "          const docLink = document.createElement('div');\n",
              "          docLink.innerHTML = docLinkHtml;\n",
              "          element.appendChild(docLink);\n",
              "        }\n",
              "      </script>\n",
              "    </div>\n",
              "  </div>\n",
              "  "
            ]
          },
          "metadata": {},
          "execution_count": 11
        }
      ]
    },
    {
      "cell_type": "markdown",
      "source": [
        "#### Loading in a dataset - Analyzing Strings"
      ],
      "metadata": {
        "id": "sIwD4zszbTyl"
      }
    },
    {
      "cell_type": "markdown",
      "source": [
        "You can load in a variety of data types in a variety of different ways, in this case we'll be importing a CSV file using a raw csv string from GitHub"
      ],
      "metadata": {
        "id": "WdcrUR_0bWpW"
      }
    },
    {
      "cell_type": "code",
      "source": [
        "url = \"https://raw.githubusercontent.com/Nickguild1993/PySchools/main/resources/students_complete.csv\"\n",
        "\n",
        "df = pd.read_csv(url)\n",
        "\n",
        "df.head(3)"
      ],
      "metadata": {
        "colab": {
          "base_uri": "https://localhost:8080/",
          "height": 143
        },
        "id": "qKwAlyRDcacs",
        "outputId": "b52bcb9b-608c-4445-f57d-9dcd89aac30b"
      },
      "execution_count": 25,
      "outputs": [
        {
          "output_type": "execute_result",
          "data": {
            "text/plain": [
              "   Student ID     student_name gender grade        school_name  reading_score  \\\n",
              "0           0     Paul Bradley      M   9th  Huang High School             66   \n",
              "1           1     Victor Smith      M  12th  Huang High School             94   \n",
              "2           2  Kevin Rodriguez      M  12th  Huang High School             90   \n",
              "\n",
              "   math_score  \n",
              "0          79  \n",
              "1          61  \n",
              "2          60  "
            ],
            "text/html": [
              "\n",
              "  <div id=\"df-1f741309-a420-4cc2-924d-6ab0ecba05c1\">\n",
              "    <div class=\"colab-df-container\">\n",
              "      <div>\n",
              "<style scoped>\n",
              "    .dataframe tbody tr th:only-of-type {\n",
              "        vertical-align: middle;\n",
              "    }\n",
              "\n",
              "    .dataframe tbody tr th {\n",
              "        vertical-align: top;\n",
              "    }\n",
              "\n",
              "    .dataframe thead th {\n",
              "        text-align: right;\n",
              "    }\n",
              "</style>\n",
              "<table border=\"1\" class=\"dataframe\">\n",
              "  <thead>\n",
              "    <tr style=\"text-align: right;\">\n",
              "      <th></th>\n",
              "      <th>Student ID</th>\n",
              "      <th>student_name</th>\n",
              "      <th>gender</th>\n",
              "      <th>grade</th>\n",
              "      <th>school_name</th>\n",
              "      <th>reading_score</th>\n",
              "      <th>math_score</th>\n",
              "    </tr>\n",
              "  </thead>\n",
              "  <tbody>\n",
              "    <tr>\n",
              "      <th>0</th>\n",
              "      <td>0</td>\n",
              "      <td>Paul Bradley</td>\n",
              "      <td>M</td>\n",
              "      <td>9th</td>\n",
              "      <td>Huang High School</td>\n",
              "      <td>66</td>\n",
              "      <td>79</td>\n",
              "    </tr>\n",
              "    <tr>\n",
              "      <th>1</th>\n",
              "      <td>1</td>\n",
              "      <td>Victor Smith</td>\n",
              "      <td>M</td>\n",
              "      <td>12th</td>\n",
              "      <td>Huang High School</td>\n",
              "      <td>94</td>\n",
              "      <td>61</td>\n",
              "    </tr>\n",
              "    <tr>\n",
              "      <th>2</th>\n",
              "      <td>2</td>\n",
              "      <td>Kevin Rodriguez</td>\n",
              "      <td>M</td>\n",
              "      <td>12th</td>\n",
              "      <td>Huang High School</td>\n",
              "      <td>90</td>\n",
              "      <td>60</td>\n",
              "    </tr>\n",
              "  </tbody>\n",
              "</table>\n",
              "</div>\n",
              "      <button class=\"colab-df-convert\" onclick=\"convertToInteractive('df-1f741309-a420-4cc2-924d-6ab0ecba05c1')\"\n",
              "              title=\"Convert this dataframe to an interactive table.\"\n",
              "              style=\"display:none;\">\n",
              "        \n",
              "  <svg xmlns=\"http://www.w3.org/2000/svg\" height=\"24px\"viewBox=\"0 0 24 24\"\n",
              "       width=\"24px\">\n",
              "    <path d=\"M0 0h24v24H0V0z\" fill=\"none\"/>\n",
              "    <path d=\"M18.56 5.44l.94 2.06.94-2.06 2.06-.94-2.06-.94-.94-2.06-.94 2.06-2.06.94zm-11 1L8.5 8.5l.94-2.06 2.06-.94-2.06-.94L8.5 2.5l-.94 2.06-2.06.94zm10 10l.94 2.06.94-2.06 2.06-.94-2.06-.94-.94-2.06-.94 2.06-2.06.94z\"/><path d=\"M17.41 7.96l-1.37-1.37c-.4-.4-.92-.59-1.43-.59-.52 0-1.04.2-1.43.59L10.3 9.45l-7.72 7.72c-.78.78-.78 2.05 0 2.83L4 21.41c.39.39.9.59 1.41.59.51 0 1.02-.2 1.41-.59l7.78-7.78 2.81-2.81c.8-.78.8-2.07 0-2.86zM5.41 20L4 18.59l7.72-7.72 1.47 1.35L5.41 20z\"/>\n",
              "  </svg>\n",
              "      </button>\n",
              "      \n",
              "  <style>\n",
              "    .colab-df-container {\n",
              "      display:flex;\n",
              "      flex-wrap:wrap;\n",
              "      gap: 12px;\n",
              "    }\n",
              "\n",
              "    .colab-df-convert {\n",
              "      background-color: #E8F0FE;\n",
              "      border: none;\n",
              "      border-radius: 50%;\n",
              "      cursor: pointer;\n",
              "      display: none;\n",
              "      fill: #1967D2;\n",
              "      height: 32px;\n",
              "      padding: 0 0 0 0;\n",
              "      width: 32px;\n",
              "    }\n",
              "\n",
              "    .colab-df-convert:hover {\n",
              "      background-color: #E2EBFA;\n",
              "      box-shadow: 0px 1px 2px rgba(60, 64, 67, 0.3), 0px 1px 3px 1px rgba(60, 64, 67, 0.15);\n",
              "      fill: #174EA6;\n",
              "    }\n",
              "\n",
              "    [theme=dark] .colab-df-convert {\n",
              "      background-color: #3B4455;\n",
              "      fill: #D2E3FC;\n",
              "    }\n",
              "\n",
              "    [theme=dark] .colab-df-convert:hover {\n",
              "      background-color: #434B5C;\n",
              "      box-shadow: 0px 1px 3px 1px rgba(0, 0, 0, 0.15);\n",
              "      filter: drop-shadow(0px 1px 2px rgba(0, 0, 0, 0.3));\n",
              "      fill: #FFFFFF;\n",
              "    }\n",
              "  </style>\n",
              "\n",
              "      <script>\n",
              "        const buttonEl =\n",
              "          document.querySelector('#df-1f741309-a420-4cc2-924d-6ab0ecba05c1 button.colab-df-convert');\n",
              "        buttonEl.style.display =\n",
              "          google.colab.kernel.accessAllowed ? 'block' : 'none';\n",
              "\n",
              "        async function convertToInteractive(key) {\n",
              "          const element = document.querySelector('#df-1f741309-a420-4cc2-924d-6ab0ecba05c1');\n",
              "          const dataTable =\n",
              "            await google.colab.kernel.invokeFunction('convertToInteractive',\n",
              "                                                     [key], {});\n",
              "          if (!dataTable) return;\n",
              "\n",
              "          const docLinkHtml = 'Like what you see? Visit the ' +\n",
              "            '<a target=\"_blank\" href=https://colab.research.google.com/notebooks/data_table.ipynb>data table notebook</a>'\n",
              "            + ' to learn more about interactive tables.';\n",
              "          element.innerHTML = '';\n",
              "          dataTable['output_type'] = 'display_data';\n",
              "          await google.colab.output.renderOutput(dataTable, element);\n",
              "          const docLink = document.createElement('div');\n",
              "          docLink.innerHTML = docLinkHtml;\n",
              "          element.appendChild(docLink);\n",
              "        }\n",
              "      </script>\n",
              "    </div>\n",
              "  </div>\n",
              "  "
            ]
          },
          "metadata": {},
          "execution_count": 25
        }
      ]
    },
    {
      "cell_type": "code",
      "source": [
        "print(\"Dataframe Dimensions:\", df.shape)\n",
        "print(\"________________________________\")\n",
        "print(df.isnull().sum())"
      ],
      "metadata": {
        "colab": {
          "base_uri": "https://localhost:8080/"
        },
        "id": "eCjoCmlAfpdn",
        "outputId": "8ef9a071-e516-4a32-e41e-d6c9e9925d51"
      },
      "execution_count": 42,
      "outputs": [
        {
          "output_type": "stream",
          "name": "stdout",
          "text": [
            "Dataframe Dimensions: (39170, 7)\n",
            "________________________________\n",
            "Student ID       0\n",
            "student_name     0\n",
            "gender           0\n",
            "grade            0\n",
            "school_name      0\n",
            "reading_score    0\n",
            "math_score       0\n",
            "dtype: int64\n"
          ]
        }
      ]
    },
    {
      "cell_type": "markdown",
      "source": [
        "Working with strings"
      ],
      "metadata": {
        "id": "1DDOXiw1csxM"
      }
    },
    {
      "cell_type": "code",
      "source": [
        "student_names = df[\"student_name\"].tolist()\n",
        "student_names[:5]"
      ],
      "metadata": {
        "colab": {
          "base_uri": "https://localhost:8080/"
        },
        "id": "XbleZgWlckGM",
        "outputId": "6c69d825-758e-41b2-f39a-226ef39dfa3c"
      },
      "execution_count": 26,
      "outputs": [
        {
          "output_type": "execute_result",
          "data": {
            "text/plain": [
              "['Paul Bradley',\n",
              " 'Victor Smith',\n",
              " 'Kevin Rodriguez',\n",
              " 'Dr. Richard Scott',\n",
              " 'Bonnie Ray']"
            ]
          },
          "metadata": {},
          "execution_count": 26
        }
      ]
    },
    {
      "cell_type": "code",
      "source": [
        "# String Split Method | Splitting a string object\n",
        "\n",
        "# example\n",
        "name = \"Doug Dimmadome DDS\"\n",
        "print(name)\n",
        "name.split()"
      ],
      "metadata": {
        "colab": {
          "base_uri": "https://localhost:8080/"
        },
        "id": "jv_zzkBFc13r",
        "outputId": "a46140a0-0488-4e41-ae73-c1c8edcf5528"
      },
      "execution_count": 27,
      "outputs": [
        {
          "output_type": "stream",
          "name": "stdout",
          "text": [
            "Doug Dimmadome DDS\n"
          ]
        },
        {
          "output_type": "execute_result",
          "data": {
            "text/plain": [
              "['Doug', 'Dimmadome', 'DDS']"
            ]
          },
          "metadata": {},
          "execution_count": 27
        }
      ]
    },
    {
      "cell_type": "code",
      "source": [
        "# Splitting the student names and determining the length of said split name\n",
        "\n",
        "for name in student_names[:10]:  # Only want the first 10 observations\n",
        "  print(name.split(), len(name.split()))"
      ],
      "metadata": {
        "colab": {
          "base_uri": "https://localhost:8080/"
        },
        "id": "fKX9WoqkdDio",
        "outputId": "2beee944-d678-4c3e-8235-e4488662906b"
      },
      "execution_count": 41,
      "outputs": [
        {
          "output_type": "stream",
          "name": "stdout",
          "text": [
            "['Paul', 'Bradley'] 2\n",
            "['Victor', 'Smith'] 2\n",
            "['Kevin', 'Rodriguez'] 2\n",
            "['Dr.', 'Richard', 'Scott'] 3\n",
            "['Bonnie', 'Ray'] 2\n",
            "['Bryan', 'Miranda'] 2\n",
            "['Sheena', 'Carter'] 2\n",
            "['Nicole', 'Baker'] 2\n",
            "['Michael', 'Roth'] 2\n",
            "['Matthew', 'Greene'] 2\n"
          ]
        }
      ]
    },
    {
      "cell_type": "code",
      "source": [
        "# Creating a new (empty) list, use it for the FOR LOOP to iterate through the names\n",
        "\n",
        "names_to_fix = []\n",
        "\n",
        "# using an if statement to determine which observations to count | IF the name >= 3, it's added to my empty list\n",
        "for name in student_names:\n",
        "  if len(name.split()) >= 3:\n",
        "    names_to_fix.append(name)\n",
        "\n",
        "# Getting the length of the list of students whose names need to be corrected\n",
        "y = len(names_to_fix)\n",
        "print(\"There are\", y, \"students who need their named corrected\")"
      ],
      "metadata": {
        "colab": {
          "base_uri": "https://localhost:8080/"
        },
        "id": "zIfvysb6dkYY",
        "outputId": "258a748f-6e15-4017-c121-bf109fb4c304"
      },
      "execution_count": 45,
      "outputs": [
        {
          "output_type": "stream",
          "name": "stdout",
          "text": [
            "There are 1531 students who need their named corrected\n"
          ]
        }
      ]
    },
    {
      "cell_type": "code",
      "source": [
        "# For practice, getting the students who were good and did not add fictious titles to their names\n",
        "\n",
        "good_names = []\n",
        "\n",
        "for x in student_names: # you can use anything for your value name, but I like to make it meaningful\n",
        "  if len(x.split()) <=2:\n",
        "    good_names.append(x)\n",
        "\n",
        "c = len(good_names)\n",
        "print(\"There are\", c, \"student names that do not need to be fixed\")"
      ],
      "metadata": {
        "colab": {
          "base_uri": "https://localhost:8080/"
        },
        "id": "YeohcIXAg-ip",
        "outputId": "e668ab79-719f-498d-e1cb-0159d316718b"
      },
      "execution_count": 47,
      "outputs": [
        {
          "output_type": "stream",
          "name": "stdout",
          "text": [
            "There are 37639 student names that do not need to be fixed\n"
          ]
        }
      ]
    },
    {
      "cell_type": "code",
      "source": [
        "# Using the list we created earlier containing students with 3+ strings in their name\n",
        "\n",
        "prefixes = []\n",
        "\n",
        "for name in names_to_fix:\n",
        "  if len(name.split()[0]) <=3: # We know that the longest prefix is 4 letters\n",
        "    prefixes.append(name.split()[0])\n",
        "\n",
        "print(prefixes)\n",
        "print(len(prefixes))"
      ],
      "metadata": {
        "colab": {
          "base_uri": "https://localhost:8080/"
        },
        "id": "HjeLKAmMhu9e",
        "outputId": "53385995-4f84-4d68-d812-bf2c0635af6f"
      },
      "execution_count": 52,
      "outputs": [
        {
          "output_type": "stream",
          "name": "stdout",
          "text": [
            "['Dr.', 'Dr.', 'Mr.', 'Dr.', 'Dr.', 'Mr.', 'Dr.', 'Mr.', 'Mr.', 'Mr.', 'Dr.', 'Mr.', 'Mr.', 'Mr.', 'Mr.', 'Mr.', 'Dr.', 'Mr.', 'Mr.', 'Dr.', 'Dr.', 'Dr.', 'Ms.', 'Dr.', 'Dr.', 'Mr.', 'Amy', 'Mr.', 'Dr.', 'Mr.', 'Mr.', 'Mr.', 'Mr.', 'Dr.', 'Mr.', 'Mr.', 'Mr.', 'Dr.', 'Mr.', 'Dr.', 'Dr.', 'Mr.', 'Mr.', 'Mr.', 'Mr.', 'Mr.', 'Mr.', 'Dr.', 'Dr.', 'Mr.', 'Mr.', 'Dr.', 'Mr.', 'Mr.', 'Dr.', 'Mr.', 'Ms.', 'Dr.', 'Mr.', 'Mr.', 'Dr.', 'Mr.', 'Dr.', 'Mr.', 'Mr.', 'Mr.', 'Mr.', 'Mr.', 'Mr.', 'Dr.', 'Mr.', 'Dr.', 'Mr.', 'Ms.', 'Mr.', 'Dr.', 'Mr.', 'Dr.', 'Dr.', 'Dr.', 'Mr.', 'Mr.', 'Dr.', 'Dr.', 'Mr.', 'Mr.', 'Mr.', 'Dr.', 'Dr.', 'Mr.', 'Ms.', 'Mr.', 'Dr.', 'Mr.', 'Mr.', 'Mr.', 'Mr.', 'Mr.', 'Mr.', 'Mr.', 'Mr.', 'Mr.', 'Mr.', 'Dr.', 'Mr.', 'Mr.', 'Mr.', 'Mr.', 'Dr.', 'Mr.', 'Mr.', 'Dr.', 'Mr.', 'Ms.', 'Dr.', 'Mr.', 'Mr.', 'Dr.', 'Dr.', 'Dr.', 'Mr.', 'Dr.', 'Amy', 'Dr.', 'Mr.', 'Dr.', 'Dr.', 'Mr.', 'Ms.', 'Dr.', 'Mr.', 'Jon', 'Dr.', 'Dr.', 'Dr.', 'Dr.', 'Mr.', 'Dr.', 'Mr.', 'Dr.', 'Mr.', 'Mr.', 'Mr.', 'Dr.', 'Dr.', 'Dr.', 'Dr.', 'Mr.', 'Dr.', 'Dr.', 'Ms.', 'Ms.', 'Mr.', 'Dr.', 'Dr.', 'Mr.', 'Mr.', 'Dr.', 'Mr.', 'Mr.', 'Dr.', 'Dr.', 'Mr.', 'Mr.', 'Mr.', 'Mr.', 'Dr.', 'Dr.', 'Dr.', 'Dr.', 'Dr.', 'Dr.', 'Mr.', 'Ms.', 'Dr.', 'Mr.', 'Dr.', 'Dr.', 'Mr.', 'Dr.', 'Dr.', 'Dr.', 'Mr.', 'Mr.', 'Mr.', 'Dr.', 'Mr.', 'Dr.', 'Dr.', 'Dr.', 'Dr.', 'Mr.', 'Dr.', 'Dr.', 'Dr.', 'Dr.', 'Mr.', 'Dr.', 'Mr.', 'Dr.', 'Dr.', 'Dr.', 'Amy', 'Dr.', 'Mr.', 'Mr.', 'Dr.', 'Dr.', 'Mr.', 'Dr.', 'Mr.', 'Dr.', 'Ms.', 'Mr.', 'Mr.', 'Mr.', 'Dr.', 'Mr.', 'Dr.', 'Mr.', 'Mr.', 'Dr.', 'Dr.', 'Dr.', 'Dr.', 'Mr.', 'Mr.', 'Ms.', 'Mr.', 'Mr.', 'Mr.', 'Mr.', 'Dr.', 'Mr.', 'Mr.', 'Dr.', 'Mr.', 'Dr.', 'Dr.', 'Dr.', 'Dr.', 'Dr.', 'Dr.', 'Mr.', 'Dr.', 'Mr.', 'Dr.', 'Dr.', 'Mr.', 'Mr.', 'Mr.', 'Mr.', 'Mr.', 'Mr.', 'Dr.', 'Mr.', 'Mr.', 'Mr.', 'Mr.', 'Mr.', 'Mr.', 'Mr.', 'Mr.', 'Dr.', 'Dr.', 'Mr.', 'Mr.', 'Dr.', 'Mr.', 'Mr.', 'Mr.', 'Mr.', 'Mr.', 'Mr.', 'Mr.', 'Mr.', 'Dr.', 'Mr.', 'Dr.', 'Ms.', 'Dr.', 'Mr.', 'Mr.', 'Amy', 'Dr.', 'Mr.', 'Dr.', 'Dr.', 'Dr.', 'Mr.', 'Dr.', 'Amy', 'Dr.', 'Dr.', 'Dr.', 'Mr.', 'Mr.', 'Mr.', 'Mr.', 'Mr.', 'Mr.', 'Mr.', 'Dr.', 'Mr.', 'Dr.', 'Dr.', 'Mr.', 'Dr.', 'Dr.', 'Dr.', 'Mr.', 'Dr.', 'Dr.', 'Mr.', 'Mr.', 'Mr.', 'Dr.', 'Mr.', 'Dr.', 'Dr.', 'Ms.', 'Mr.', 'Dr.', 'Dr.', 'Mr.', 'Mr.', 'Dr.', 'Mr.', 'Dr.', 'Dr.', 'Dr.', 'Mr.', 'Dr.', 'Dr.', 'Dr.', 'Mr.', 'Dr.', 'Ian', 'Dr.', 'Mr.', 'Dr.', 'Mr.', 'Dr.', 'Dr.', 'Ms.', 'Dr.', 'Dr.', 'Mr.', 'Mr.', 'Dr.', 'Dr.', 'Dr.', 'Dr.', 'Mr.', 'Dr.', 'Dr.', 'Mr.', 'Dr.', 'Dr.', 'Dr.', 'Dr.', 'Ms.', 'Dr.', 'Dr.', 'Ms.', 'Mr.', 'Mr.', 'Dr.', 'Mr.', 'Dr.', 'Mr.', 'Dr.', 'Dr.', 'Dr.', 'Dr.', 'Dr.', 'Mr.', 'Mr.', 'Dr.', 'Dr.', 'Ms.', 'Mr.', 'Mr.', 'Mr.', 'Mr.', 'Ms.', 'Mr.', 'Ms.', 'Dr.', 'Dr.', 'Mr.', 'Mr.', 'Mr.', 'Mr.', 'Jon', 'Dr.', 'Ms.', 'Mr.', 'Mr.', 'Dr.', 'Joe', 'Dr.', 'Dr.', 'Mr.', 'Mr.', 'Mr.', 'Dr.', 'Mr.', 'Mr.', 'Mr.', 'Mr.', 'Mr.', 'Dr.', 'Mr.', 'Dr.', 'Mr.', 'Dr.', 'Ms.', 'Mr.', 'Mr.', 'Mr.', 'Mr.', 'Mr.', 'Ms.', 'Dr.', 'Mr.', 'Dr.', 'Ms.', 'Dr.', 'Dr.', 'Mr.', 'Mr.', 'Dr.', 'Dr.', 'Mr.', 'Mr.', 'Mr.', 'Mr.', 'Mr.', 'Mr.', 'Dr.', 'Dr.', 'Mr.', 'Mr.', 'Mr.', 'Dr.', 'Dr.', 'Mr.', 'Dr.', 'Mr.', 'Mr.', 'Dr.', 'Dr.', 'Mr.', 'Dr.', 'Dr.', 'Ms.', 'Dr.', 'Dr.', 'Mr.', 'Mr.', 'Ms.', 'Dr.', 'Dr.', 'Dr.', 'Mr.', 'Mr.', 'Mr.', 'Dr.', 'Dr.', 'Mr.', 'Mr.', 'Amy', 'Mr.', 'Mr.', 'Dr.', 'Mr.', 'Dr.', 'Dr.', 'Mr.', 'Mr.', 'Ms.', 'Mr.', 'Mr.', 'Dr.', 'Dr.', 'Mr.', 'Dr.', 'Mr.', 'Ms.', 'Mr.', 'Dr.', 'Dr.', 'Dr.', 'Dr.', 'Mr.', 'Mr.', 'Dr.', 'Mr.', 'Dr.', 'Dr.', 'Mr.', 'Dr.', 'Dr.', 'Mr.', 'Mr.', 'Mr.', 'Dr.', 'Dr.', 'Mr.', 'Mr.', 'Ms.', 'Dr.', 'Ms.', 'Mr.', 'Mr.', 'Dr.', 'Ms.', 'Dr.', 'Dr.', 'Dr.', 'Dr.', 'Dr.', 'Dr.', 'Amy', 'Mr.', 'Mr.', 'Dr.', 'Dr.', 'Ms.', 'Ms.', 'Dr.', 'Mr.', 'Dr.', 'Mr.', 'Dr.', 'Dr.', 'Kim', 'Mr.', 'Mr.', 'Mr.', 'Dr.', 'Ms.', 'Mr.', 'Mr.', 'Mr.', 'Dr.', 'Dr.', 'Dr.']\n",
            "549\n"
          ]
        }
      ]
    },
    {
      "cell_type": "code",
      "source": [
        "set(prefixes) # returns the unique values within a list"
      ],
      "metadata": {
        "colab": {
          "base_uri": "https://localhost:8080/"
        },
        "id": "94YJ2QlkjAIH",
        "outputId": "e06fe8c4-d090-43a8-c5e1-5878a7f3be0c"
      },
      "execution_count": 53,
      "outputs": [
        {
          "output_type": "execute_result",
          "data": {
            "text/plain": [
              "{'Amy', 'Dr.', 'Ian', 'Joe', 'Jon', 'Kim', 'Mr.', 'Ms.'}"
            ]
          },
          "metadata": {},
          "execution_count": 53
        }
      ]
    },
    {
      "cell_type": "code",
      "source": [
        "# Suffixes \n",
        "suffixes = []\n",
        "\n",
        "for name in names_to_fix:\n",
        "  if len(name.split()[-1]) <= 3:\n",
        "    suffixes.append(name.split()[-1])\n",
        "\n",
        "print(suffixes)\n",
        "\n",
        "\n",
        "z = len(suffixes)\n",
        "print(\"There are\", z, \"student suffixes that need to removed\")"
      ],
      "metadata": {
        "colab": {
          "base_uri": "https://localhost:8080/"
        },
        "id": "pAElgmd5kLEs",
        "outputId": "9c84fadd-4d05-4b16-b27e-d912cf13c7d2"
      },
      "execution_count": 56,
      "outputs": [
        {
          "output_type": "stream",
          "name": "stdout",
          "text": [
            "['MD', 'MD', 'MD', 'III', 'DVM', 'MD', 'MD', 'MD', 'DDS', 'DVM', 'II', 'MD', 'MD', 'DDS', 'MD', 'DDS', 'MD', 'MD', 'PhD', 'MD', 'DVM', 'Lee', 'MD', 'DDS', 'MD', 'MD', 'MD', 'MD', 'MD', 'MD', 'DDS', 'Jr.', 'DVM', 'MD', 'MD', 'PhD', 'IV', 'MD', 'DDS', 'DDS', 'DDS', 'MD', 'DDS', 'MD', 'DVM', 'IV', 'MD', 'DDS', 'MD', 'MD', 'DVM', 'Jr.', 'MD', 'PhD', 'II', 'MD', 'DDS', 'DDS', 'DDS', 'Jr.', 'III', 'MD', 'MD', 'MD', 'DDS', 'Jr.', 'DDS', 'DVM', 'DDS', 'DVM', 'MD', 'DDS', 'PhD', 'DDS', 'DDS', 'Jr.', 'Jr.', 'DVM', 'DDS', 'MD', 'MD', 'DVM', 'DDS', 'DVM', 'Jr.', 'MD', 'Jr.', 'MD', 'PhD', 'PhD', 'DDS', 'MD', 'DDS', 'DVM', 'Cox', 'DVM', 'MD', 'Jr.', 'MD', 'DDS', 'MD', 'MD', 'DDS', 'DDS', 'Roy', 'DDS', 'DDS', 'DDS', 'II', 'PhD', 'MD', 'PhD', 'DDS', 'MD', 'DDS', 'Jr.', 'Day', 'DDS', 'MD', 'PhD', 'DDS', 'Jr.', 'DDS', 'MD', 'MD', 'MD', 'MD', 'DDS', 'MD', 'DDS', 'PhD', 'DVM', 'DDS', 'MD', 'MD', 'MD', 'DDS', 'Jr.', 'Jr.', 'DDS', 'Jr.', 'MD', 'MD', 'PhD', 'PhD', 'DDS', 'MD', 'MD', 'III', 'DVM', 'PhD', 'Jr.', 'II', 'DDS', 'DDS', 'DVM', 'MD', 'II', 'MD', 'DDS', 'MD', 'DDS', 'PhD', 'DDS', 'DDS', 'II', 'DVM', 'DDS', 'Jr.', 'DVM', 'MD', 'MD', 'DVM', 'MD', 'DDS', 'DVM', 'DDS', 'MD', 'II', 'PhD', 'MD', 'MD', 'MD', 'DDS', 'MD', 'MD', 'DDS', 'DDS', 'MD', 'DDS', 'PhD', 'DVM', 'DVM', 'MD', 'MD', 'DDS', 'DDS', 'PhD', 'MD', 'IV', 'DDS', 'Jr.', 'DDS', 'Jr.', 'MD', 'MD', 'MD', 'DDS', 'MD', 'DVM', 'DVM', 'DDS', 'DDS', 'Jr.', 'MD', 'MD', 'DDS', 'DDS', 'MD', 'MD', 'MD', 'MD', 'DVM', 'MD', 'DVM', 'DVM', 'MD', 'DDS', 'MD', 'Jr.', 'DDS', 'MD', 'MD', 'DVM', 'Jr.', 'DDS', 'MD', 'MD', 'PhD', 'DDS', 'Jr.', 'MD', 'DDS', 'MD', 'DDS', 'Jr.', 'Jr.', 'DVM', 'MD', 'DDS', 'PhD', 'MD', 'PhD', 'MD', 'V', 'II', 'MD', 'PhD', 'DVM', 'MD', 'MD', 'PhD', 'MD', 'MD', 'MD', 'DDS', 'DVM', 'Jr.', 'MD', 'Jr.', 'Jr.', 'DDS', 'PhD', 'DVM', 'DVM', 'MD', 'MD', 'MD', 'DVM', 'MD', 'DDS', 'MD', 'DDS', 'Jr.', 'MD', 'DDS', 'DDS', 'Jr.', 'DVM', 'DVM', 'DDS', 'MD', 'MD', 'DVM', 'MD', 'MD', 'MD', 'DDS', 'MD', 'Jr.', 'MD', 'MD', 'PhD', 'PhD', 'DDS', 'DDS', 'DDS', 'MD', 'MD', 'PhD', 'Jr.', 'MD', 'DDS', 'III', 'DVM', 'Jr.', 'DDS', 'DDS', 'MD', 'DVM', 'MD', 'DDS', 'MD', 'PhD', 'DDS', 'Lee', 'MD', 'Jr.', 'MD', 'DVM', 'DDS', 'DDS', 'MD', 'MD', 'DVM', 'DVM', 'DVM', 'MD', 'DDS', 'DVM', 'DDS', 'MD', 'MD', 'MD', 'DDS', 'PhD', 'DDS', 'DVM', 'DDS', 'DVM', 'DDS', 'DVM', 'DVM', 'DDS', 'II', 'MD', 'III', 'DDS', 'DDS', 'DVM', 'DVM', 'MD', 'Jr.', 'II', 'MD', 'PhD', 'PhD', 'MD', 'DDS', 'DVM', 'DVM', 'MD', 'MD', 'DVM', 'DVM', 'PhD', 'Jr.', 'Jr.', 'MD', 'MD', 'DDS', 'DDS', 'III', 'PhD', 'Jr.', 'MD', 'MD', 'MD', 'DDS', 'MD', 'DDS', 'MD', 'DVM', 'PhD', 'MD', 'MD', 'PhD', 'Jr.', 'MD', 'MD', 'MD', 'MD', 'MD', 'MD', 'DVM', 'DVM', 'PhD', 'DDS', 'DDS', 'MD', 'DDS', 'MD', 'DVM', 'DVM', 'DDS', 'DVM', 'DDS', 'MD', 'MD', 'DVM', 'DVM', 'DDS', 'Jr.', 'PhD', 'MD', 'DVM', 'DVM', 'DDS', 'DVM', 'MD', 'MD', 'MD', 'II', 'DDS', 'DDS', 'DDS', 'MD', 'Jr.', 'MD', 'Jr.', 'DDS', 'MD', 'MD', 'DVM', 'MD', 'DDS', 'DDS', 'PhD', 'Jr.', 'Jr.', 'Jr.', 'DDS', 'Jr.', 'MD', 'MD', 'DDS', 'MD', 'Jr.', 'MD', 'DDS', 'Jr.', 'DDS', 'MD', 'MD', 'Jr.', 'PhD', 'DDS', 'MD', 'II', 'PhD', 'DVM', 'MD', 'DDS', 'PhD', 'MD', 'MD', 'DDS', 'Jr.', 'MD', 'DVM', 'MD', 'MD', 'MD', 'MD', 'MD', 'DDS', 'DVM', 'PhD', 'DVM', 'III', 'Jr.', 'DVM', 'MD', 'MD', 'V', 'Jr.', 'MD', 'DVM', 'MD', 'DDS', 'DVM', 'DDS', 'Jr.', 'MD', 'PhD', 'DVM', 'DDS', 'PhD', 'MD', 'DDS', 'DDS', 'MD', 'DVM', 'IV', 'Jr.', 'MD', 'MD', 'Jr.', 'PhD', 'II', 'Jr.', 'MD', 'MD', 'MD', 'Jr.', 'MD', 'DVM', 'PhD', 'PhD', 'DDS', 'DDS', 'PhD', 'MD', 'Jr.', 'MD', 'DDS', 'MD', 'DDS', 'DVM', 'DDS', 'DVM', 'MD', 'MD', 'PhD', 'Jr.', 'Jr.', 'MD', 'DDS', 'MD', 'DVM', 'MD', 'DVM', 'DDS', 'PhD', 'PhD', 'Kim', 'DDS', 'PhD', 'DVM', 'PhD', 'DVM', 'DDS', 'MD', 'Jr.', 'PhD', 'MD', 'MD', 'II', 'III', 'MD', 'DDS', 'DDS', 'PhD', 'MD', 'DVM', 'MD', 'DDS', 'MD', 'DDS', 'Jr.', 'DDS', 'DDS', 'MD', 'IV', 'Jr.', 'DDS', 'DDS', 'Jr.', 'DVM', 'DVM', 'DVM', 'DVM', 'MD', 'DVM', 'DDS', 'MD', 'MD', 'DDS', 'DDS', 'DVM', 'III', 'DVM', 'MD', 'DVM', 'DDS', 'MD', 'MD', 'DVM', 'DVM', 'MD', 'III', 'DDS', 'MD', 'DDS', 'DVM', 'Jr.', 'III', 'MD', 'MD', 'PhD', 'DVM', 'DDS', 'MD', 'Jr.', 'DDS', 'MD', 'II', 'MD', 'Jr.', 'DDS', 'PhD', 'DDS', 'DDS', 'II', 'Jr.', 'DDS', 'MD', 'II', 'MD', 'MD', 'MD', 'Jr.', 'DDS', 'MD', 'DVM', 'PhD', 'MD', 'DVM', 'DDS', 'DDS', 'DVM', 'DDS', 'DDS', 'MD', 'MD', 'MD', 'MD', 'DDS', 'DVM', 'PhD', 'DDS', 'DDS', 'MD', 'MD', 'MD', 'DDS', 'DVM', 'MD', 'II', 'MD', 'Jr.', 'Jr.', 'MD', 'MD', 'MD', 'MD', 'DVM', 'MD', 'Jr.', 'PhD', 'PhD', 'PhD', 'DDS', 'Jr.', 'DVM', 'DDS', 'MD', 'DVM', 'PhD', 'MD', 'Jr.', 'Jr.', 'DVM', 'MD', 'DDS', 'MD', 'MD', 'Lee', 'MD', 'MD', 'MD', 'DDS', 'PhD', 'MD', 'PhD', 'MD', 'DVM', 'MD', 'MD', 'MD', 'DDS', 'II', 'DVM', 'Jr.', 'DVM', 'MD', 'Jr.', 'DDS', 'DVM', 'DDS', 'Jr.', 'DVM', 'Jr.', 'DDS', 'MD', 'PhD', 'DDS', 'DDS', 'DVM', 'MD', 'MD', 'PhD', 'DDS', 'DDS', 'DDS', 'DDS', 'MD', 'DVM', 'DVM', 'DVM', 'DDS', 'MD', 'MD', 'MD', 'Jr.', 'PhD', 'MD', 'Jr.', 'DVM', 'DDS', 'DVM', 'MD', 'DVM', 'MD', 'DDS', 'DDS', 'PhD', 'DDS', 'Jr.', 'DDS', 'MD', 'MD', 'MD', 'MD', 'DDS', 'DVM', 'MD', 'MD', 'PhD', 'MD', 'MD', 'II', 'MD', 'Jr.', 'PhD', 'MD', 'PhD', 'MD', 'MD', 'DDS', 'Jr.', 'PhD', 'DDS', 'MD', 'DDS', 'DDS', 'MD', 'MD', 'MD', 'Jr.', 'DDS', 'DDS', 'MD', 'MD', 'MD', 'MD', 'IV', 'Jr.', 'MD', 'DDS', 'MD', 'DDS', 'MD', 'MD', 'Jr.', 'MD', 'DVM', 'DVM', 'DVM', 'MD', 'MD', 'DVM', 'DVM', 'PhD', 'Jr.', 'PhD', 'DVM', 'Jr.', 'MD', 'MD', 'DDS', 'III', 'DVM', 'DDS', 'Jr.', 'MD', 'MD', 'Jr.', 'MD', 'MD', 'DVM', 'Jr.', 'Jr.', 'DDS', 'PhD', 'DDS', 'DDS', 'DDS', 'Jr.', 'Jr.', 'MD', 'DVM', 'DDS', 'MD', 'MD', 'PhD', 'DDS', 'MD', 'DDS', 'DVM', 'DVM', 'MD', 'DDS', 'MD', 'MD', 'MD', 'Jr.', 'MD', 'DVM', 'DDS', 'MD', 'PhD', 'MD', 'II', 'Jr.', 'III', 'MD', 'PhD', 'MD', 'MD', 'PhD', 'II', 'DDS', 'DVM', 'DDS', 'MD', 'DDS', 'MD', 'DVM', 'MD', 'III', 'DDS', 'MD', 'DVM', 'MD', 'II', 'DDS', 'MD', 'MD', 'DDS', 'MD', 'MD', 'DVM', 'MD', 'MD', 'MD', 'II', 'DDS', 'Jr.', 'MD', 'DDS', 'MD', 'MD', 'MD', 'MD', 'DDS', 'IV', 'MD', 'Jr.', 'III', 'DDS', 'DDS', 'MD', 'DDS', 'DVM', 'DVM', 'PhD', 'MD', 'II', 'Li', 'DVM', 'MD', 'DVM', 'DDS', 'DDS', 'DDS', 'DVM', 'MD', 'DVM', 'MD', 'MD', 'MD', 'MD', 'Jr.', 'DVM', 'MD', 'MD', 'MD', 'MD', 'DDS', 'MD', 'PhD', 'DDS', 'MD', 'MD', 'DDS', 'Jr.', 'DDS', 'DDS', 'DVM', 'DDS', 'DDS', 'MD', 'Jr.', 'DDS', 'PhD', 'Jr.', 'DDS']\n",
            "There are 958 student suffixes that need to removed\n"
          ]
        }
      ]
    },
    {
      "cell_type": "code",
      "source": [
        "set(suffixes)"
      ],
      "metadata": {
        "colab": {
          "base_uri": "https://localhost:8080/"
        },
        "id": "7oOgcPCXlqsk",
        "outputId": "fa923a88-1e79-4c09-865f-46ae6d2c7e73"
      },
      "execution_count": 57,
      "outputs": [
        {
          "output_type": "execute_result",
          "data": {
            "text/plain": [
              "{'Cox',\n",
              " 'DDS',\n",
              " 'DVM',\n",
              " 'Day',\n",
              " 'II',\n",
              " 'III',\n",
              " 'IV',\n",
              " 'Jr.',\n",
              " 'Kim',\n",
              " 'Lee',\n",
              " 'Li',\n",
              " 'MD',\n",
              " 'PhD',\n",
              " 'Roy',\n",
              " 'V'}"
            ]
          },
          "metadata": {},
          "execution_count": 57
        }
      ]
    },
    {
      "cell_type": "code",
      "source": [
        "# Using replace method  - replace \"old\" phrase/string w/ new phrase/string inside ()\n",
        "\n",
        "# example\n",
        "\n",
        "x = \"Dr. Strange Love\"\n",
        "print(x.replace(\"Dr.\", \"Mr.\"))\n",
        "print(x.replace(\"Dr. \", \"\"))"
      ],
      "metadata": {
        "colab": {
          "base_uri": "https://localhost:8080/"
        },
        "id": "IoqnT3Idl2OQ",
        "outputId": "094dc417-6238-4adc-800c-3f6809e5a7e1"
      },
      "execution_count": 60,
      "outputs": [
        {
          "output_type": "stream",
          "name": "stdout",
          "text": [
            "Mr. Strange Love\n",
            "Strange Love\n"
          ]
        }
      ]
    },
    {
      "cell_type": "code",
      "source": [
        "# creating a list of the prefixes/suffixes we wish to remove\n",
        "\n",
        "prefixes_suffixes = [\"Dr. \", \"Mr. \", \"Ms. \", \"Mrs. \", \"Miss \", \" MD\", \" DDS\", \" DVM\", \" PhD\"]"
      ],
      "metadata": {
        "id": "Lptf8pDrmZvY"
      },
      "execution_count": 61,
      "outputs": []
    },
    {
      "cell_type": "code",
      "source": [
        "for x in prefixes_suffixes:\n",
        "  df[\"student_name\"] = df[\"student_name\"].str.replace(x, \"\")\n",
        "\n",
        "df.head(3)"
      ],
      "metadata": {
        "colab": {
          "base_uri": "https://localhost:8080/",
          "height": 178
        },
        "id": "NQVBUW8ym5Qz",
        "outputId": "058c559e-005d-441a-b863-cbf9cc1ac049"
      },
      "execution_count": 62,
      "outputs": [
        {
          "output_type": "stream",
          "name": "stderr",
          "text": [
            "<ipython-input-62-b77762f26873>:2: FutureWarning: The default value of regex will change from True to False in a future version.\n",
            "  df[\"student_name\"] = df[\"student_name\"].str.replace(x, \"\")\n"
          ]
        },
        {
          "output_type": "execute_result",
          "data": {
            "text/plain": [
              "   Student ID     student_name gender grade        school_name  reading_score  \\\n",
              "0           0     Paul Bradley      M   9th  Huang High School             66   \n",
              "1           1     Victor Smith      M  12th  Huang High School             94   \n",
              "2           2  Kevin Rodriguez      M  12th  Huang High School             90   \n",
              "\n",
              "   math_score  \n",
              "0          79  \n",
              "1          61  \n",
              "2          60  "
            ],
            "text/html": [
              "\n",
              "  <div id=\"df-c6e425ca-42f1-4b30-8cac-d05b6dfec23d\">\n",
              "    <div class=\"colab-df-container\">\n",
              "      <div>\n",
              "<style scoped>\n",
              "    .dataframe tbody tr th:only-of-type {\n",
              "        vertical-align: middle;\n",
              "    }\n",
              "\n",
              "    .dataframe tbody tr th {\n",
              "        vertical-align: top;\n",
              "    }\n",
              "\n",
              "    .dataframe thead th {\n",
              "        text-align: right;\n",
              "    }\n",
              "</style>\n",
              "<table border=\"1\" class=\"dataframe\">\n",
              "  <thead>\n",
              "    <tr style=\"text-align: right;\">\n",
              "      <th></th>\n",
              "      <th>Student ID</th>\n",
              "      <th>student_name</th>\n",
              "      <th>gender</th>\n",
              "      <th>grade</th>\n",
              "      <th>school_name</th>\n",
              "      <th>reading_score</th>\n",
              "      <th>math_score</th>\n",
              "    </tr>\n",
              "  </thead>\n",
              "  <tbody>\n",
              "    <tr>\n",
              "      <th>0</th>\n",
              "      <td>0</td>\n",
              "      <td>Paul Bradley</td>\n",
              "      <td>M</td>\n",
              "      <td>9th</td>\n",
              "      <td>Huang High School</td>\n",
              "      <td>66</td>\n",
              "      <td>79</td>\n",
              "    </tr>\n",
              "    <tr>\n",
              "      <th>1</th>\n",
              "      <td>1</td>\n",
              "      <td>Victor Smith</td>\n",
              "      <td>M</td>\n",
              "      <td>12th</td>\n",
              "      <td>Huang High School</td>\n",
              "      <td>94</td>\n",
              "      <td>61</td>\n",
              "    </tr>\n",
              "    <tr>\n",
              "      <th>2</th>\n",
              "      <td>2</td>\n",
              "      <td>Kevin Rodriguez</td>\n",
              "      <td>M</td>\n",
              "      <td>12th</td>\n",
              "      <td>Huang High School</td>\n",
              "      <td>90</td>\n",
              "      <td>60</td>\n",
              "    </tr>\n",
              "  </tbody>\n",
              "</table>\n",
              "</div>\n",
              "      <button class=\"colab-df-convert\" onclick=\"convertToInteractive('df-c6e425ca-42f1-4b30-8cac-d05b6dfec23d')\"\n",
              "              title=\"Convert this dataframe to an interactive table.\"\n",
              "              style=\"display:none;\">\n",
              "        \n",
              "  <svg xmlns=\"http://www.w3.org/2000/svg\" height=\"24px\"viewBox=\"0 0 24 24\"\n",
              "       width=\"24px\">\n",
              "    <path d=\"M0 0h24v24H0V0z\" fill=\"none\"/>\n",
              "    <path d=\"M18.56 5.44l.94 2.06.94-2.06 2.06-.94-2.06-.94-.94-2.06-.94 2.06-2.06.94zm-11 1L8.5 8.5l.94-2.06 2.06-.94-2.06-.94L8.5 2.5l-.94 2.06-2.06.94zm10 10l.94 2.06.94-2.06 2.06-.94-2.06-.94-.94-2.06-.94 2.06-2.06.94z\"/><path d=\"M17.41 7.96l-1.37-1.37c-.4-.4-.92-.59-1.43-.59-.52 0-1.04.2-1.43.59L10.3 9.45l-7.72 7.72c-.78.78-.78 2.05 0 2.83L4 21.41c.39.39.9.59 1.41.59.51 0 1.02-.2 1.41-.59l7.78-7.78 2.81-2.81c.8-.78.8-2.07 0-2.86zM5.41 20L4 18.59l7.72-7.72 1.47 1.35L5.41 20z\"/>\n",
              "  </svg>\n",
              "      </button>\n",
              "      \n",
              "  <style>\n",
              "    .colab-df-container {\n",
              "      display:flex;\n",
              "      flex-wrap:wrap;\n",
              "      gap: 12px;\n",
              "    }\n",
              "\n",
              "    .colab-df-convert {\n",
              "      background-color: #E8F0FE;\n",
              "      border: none;\n",
              "      border-radius: 50%;\n",
              "      cursor: pointer;\n",
              "      display: none;\n",
              "      fill: #1967D2;\n",
              "      height: 32px;\n",
              "      padding: 0 0 0 0;\n",
              "      width: 32px;\n",
              "    }\n",
              "\n",
              "    .colab-df-convert:hover {\n",
              "      background-color: #E2EBFA;\n",
              "      box-shadow: 0px 1px 2px rgba(60, 64, 67, 0.3), 0px 1px 3px 1px rgba(60, 64, 67, 0.15);\n",
              "      fill: #174EA6;\n",
              "    }\n",
              "\n",
              "    [theme=dark] .colab-df-convert {\n",
              "      background-color: #3B4455;\n",
              "      fill: #D2E3FC;\n",
              "    }\n",
              "\n",
              "    [theme=dark] .colab-df-convert:hover {\n",
              "      background-color: #434B5C;\n",
              "      box-shadow: 0px 1px 3px 1px rgba(0, 0, 0, 0.15);\n",
              "      filter: drop-shadow(0px 1px 2px rgba(0, 0, 0, 0.3));\n",
              "      fill: #FFFFFF;\n",
              "    }\n",
              "  </style>\n",
              "\n",
              "      <script>\n",
              "        const buttonEl =\n",
              "          document.querySelector('#df-c6e425ca-42f1-4b30-8cac-d05b6dfec23d button.colab-df-convert');\n",
              "        buttonEl.style.display =\n",
              "          google.colab.kernel.accessAllowed ? 'block' : 'none';\n",
              "\n",
              "        async function convertToInteractive(key) {\n",
              "          const element = document.querySelector('#df-c6e425ca-42f1-4b30-8cac-d05b6dfec23d');\n",
              "          const dataTable =\n",
              "            await google.colab.kernel.invokeFunction('convertToInteractive',\n",
              "                                                     [key], {});\n",
              "          if (!dataTable) return;\n",
              "\n",
              "          const docLinkHtml = 'Like what you see? Visit the ' +\n",
              "            '<a target=\"_blank\" href=https://colab.research.google.com/notebooks/data_table.ipynb>data table notebook</a>'\n",
              "            + ' to learn more about interactive tables.';\n",
              "          element.innerHTML = '';\n",
              "          dataTable['output_type'] = 'display_data';\n",
              "          await google.colab.output.renderOutput(dataTable, element);\n",
              "          const docLink = document.createElement('div');\n",
              "          docLink.innerHTML = docLinkHtml;\n",
              "          element.appendChild(docLink);\n",
              "        }\n",
              "      </script>\n",
              "    </div>\n",
              "  </div>\n",
              "  "
            ]
          },
          "metadata": {},
          "execution_count": 62
        }
      ]
    },
    {
      "cell_type": "code",
      "source": [
        "# confirming it worked\n",
        "\n",
        "student_names = df[\"student_name\"].tolist()\n",
        "\n",
        "incorrect_names = []\n",
        "\n",
        "for name in student_names:\n",
        "  if len(name.split()) >= 3:\n",
        "    incorrect_names.append(name)\n",
        "\n",
        "len(incorrect_names)\n",
        "# The output of 151 is comprised of students with legit suffixes like \"Jr.\", \"II\" etc"
      ],
      "metadata": {
        "colab": {
          "base_uri": "https://localhost:8080/"
        },
        "id": "PXu_ywSspr6z",
        "outputId": "05d992a5-c6af-44d7-e580-bdbd6e903569"
      },
      "execution_count": 63,
      "outputs": [
        {
          "output_type": "execute_result",
          "data": {
            "text/plain": [
              "151"
            ]
          },
          "metadata": {},
          "execution_count": 63
        }
      ]
    },
    {
      "cell_type": "code",
      "source": [],
      "metadata": {
        "id": "YYEZRZRjqlss"
      },
      "execution_count": null,
      "outputs": []
    }
  ]
}