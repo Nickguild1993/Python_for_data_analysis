{
  "nbformat": 4,
  "nbformat_minor": 0,
  "metadata": {
    "colab": {
      "name": "LambdaFunctions.ipynb",
      "provenance": [],
      "authorship_tag": "ABX9TyPQP0tT1AcAVcPZyFSKMHqQ",
      "include_colab_link": true
    },
    "kernelspec": {
      "name": "python3",
      "display_name": "Python 3"
    },
    "language_info": {
      "name": "python"
    }
  },
  "cells": [
    {
      "cell_type": "markdown",
      "metadata": {
        "id": "view-in-github",
        "colab_type": "text"
      },
      "source": [
        "<a href=\"https://colab.research.google.com/github/Nickguild1993/Python_for_data_analysis/blob/main/LambdaFunctions.ipynb\" target=\"_parent\"><img src=\"https://colab.research.google.com/assets/colab-badge.svg\" alt=\"Open In Colab\"/></a>"
      ]
    },
    {
      "cell_type": "code",
      "execution_count": null,
      "metadata": {
        "id": "sYzKqqQMWbXO"
      },
      "outputs": [],
      "source": [
        "import pandas as pd\n",
        "import numpy as np\n",
        "\n"
      ]
    },
    {
      "cell_type": "code",
      "source": [
        "# lambda arguments: expression\n",
        "add10 = lambda x:x + 10 # creates a function with 1 argument that adds 10 to the argument and returns result\n",
        "\n",
        "print(add10(5))"
      ],
      "metadata": {
        "colab": {
          "base_uri": "https://localhost:8080/"
        },
        "id": "19vRazGmWfYA",
        "outputId": "46a755ae-44ed-4ecd-87cc-7cca47c261ec"
      },
      "execution_count": null,
      "outputs": [
        {
          "output_type": "stream",
          "name": "stdout",
          "text": [
            "15\n"
          ]
        }
      ]
    },
    {
      "cell_type": "code",
      "source": [
        "def add10_func(x):\n",
        "  return x + 10\n",
        "add10_func(5)"
      ],
      "metadata": {
        "colab": {
          "base_uri": "https://localhost:8080/"
        },
        "id": "LR3ggGxvWzu5",
        "outputId": "654ef93e-3afc-4f93-db97-a051223206db"
      },
      "execution_count": null,
      "outputs": [
        {
          "output_type": "execute_result",
          "data": {
            "text/plain": [
              "15"
            ]
          },
          "metadata": {},
          "execution_count": 3
        }
      ]
    },
    {
      "cell_type": "markdown",
      "source": [
        "multiple argument lambda"
      ],
      "metadata": {
        "id": "MnYJQZpKW6rO"
      }
    },
    {
      "cell_type": "code",
      "source": [
        "mult = lambda x,y: x*y\n",
        "\n",
        "print(mult(10,5))"
      ],
      "metadata": {
        "colab": {
          "base_uri": "https://localhost:8080/"
        },
        "id": "9Q9Cw9OAW8bO",
        "outputId": "254ef981-5464-44a9-e3ab-8d4888b89b89"
      },
      "execution_count": null,
      "outputs": [
        {
          "output_type": "stream",
          "name": "stdout",
          "text": [
            "50\n"
          ]
        }
      ]
    },
    {
      "cell_type": "code",
      "source": [
        "points2d = [(1,2), (15,1), (5,-1), (10,4)] # list with tuples x,y values\n",
        "\n",
        "points2d_sorted = sorted(points2d)\n",
        "print(points2d)\n",
        "print(points2d_sorted) # sorts by x argument (1,5,10,15)\n",
        "\n",
        "points2d_sorted = sorted(points2d, key=lambda x : x[1]) # sort by the y index (x,y)\n",
        "print(points2d_sorted)"
      ],
      "metadata": {
        "colab": {
          "base_uri": "https://localhost:8080/"
        },
        "id": "ViLQ3rqcXLZV",
        "outputId": "284aafd3-79e2-4892-e3fe-0939d6c1cf26"
      },
      "execution_count": null,
      "outputs": [
        {
          "output_type": "stream",
          "name": "stdout",
          "text": [
            "[(1, 2), (15, 1), (5, -1), (10, 4)]\n",
            "[(1, 2), (5, -1), (10, 4), (15, 1)]\n",
            "[(5, -1), (15, 1), (1, 2), (10, 4)]\n"
          ]
        }
      ]
    },
    {
      "cell_type": "code",
      "source": [
        "def sort_by_y(x):\n",
        "  return x[1]\n",
        "\n",
        "points2d_sorted = sorted(points2d, key = sort_by_y)\n",
        "print(points2d_sorted)"
      ],
      "metadata": {
        "colab": {
          "base_uri": "https://localhost:8080/"
        },
        "id": "6iu75bZ5X2wf",
        "outputId": "88578e23-6134-427a-92a7-f04a534735b8"
      },
      "execution_count": null,
      "outputs": [
        {
          "output_type": "stream",
          "name": "stdout",
          "text": [
            "[(5, -1), (15, 1), (1, 2), (10, 4)]\n"
          ]
        }
      ]
    },
    {
      "cell_type": "markdown",
      "source": [
        "#### map function"
      ],
      "metadata": {
        "id": "0Uz-udHAYMyG"
      }
    },
    {
      "cell_type": "code",
      "source": [
        "# map(function, sequence)\n",
        "a = [1,2,3,4,5]\n",
        "b = map(lambda x : x*2, a)\n",
        "print(list(b))\n",
        "\n",
        "b = [value * 2 for value in a]\n",
        "list(b)\n",
        "print(b)"
      ],
      "metadata": {
        "colab": {
          "base_uri": "https://localhost:8080/"
        },
        "id": "-j7lqZj5YOUW",
        "outputId": "8285d620-be06-4180-ce04-2c225f4353ef"
      },
      "execution_count": null,
      "outputs": [
        {
          "output_type": "stream",
          "name": "stdout",
          "text": [
            "[2, 4, 6, 8, 10]\n",
            "[2, 4, 6, 8, 10]\n"
          ]
        }
      ]
    },
    {
      "cell_type": "markdown",
      "source": [
        "#### filter function"
      ],
      "metadata": {
        "id": "Tlak1S_eY10p"
      }
    },
    {
      "cell_type": "code",
      "source": [
        "# filter(func, sequence)\n",
        "\n",
        "a = [1,2,3,4,5,6,7,8,9,10]\n",
        "b = filter(lambda x : x%2==0, a)\n",
        "print(list(b))\n",
        "\n",
        "\n",
        "c = [ x for x in a if x %2 ==0]\n",
        "print(c)\n"
      ],
      "metadata": {
        "colab": {
          "base_uri": "https://localhost:8080/"
        },
        "id": "pgLstL8KY1J_",
        "outputId": "edc6cb14-e9e1-4031-8248-0f293c5f83f1"
      },
      "execution_count": null,
      "outputs": [
        {
          "output_type": "stream",
          "name": "stdout",
          "text": [
            "[2, 4, 6, 8, 10]\n",
            "[2, 4, 6, 8, 10]\n"
          ]
        }
      ]
    },
    {
      "cell_type": "code",
      "source": [],
      "metadata": {
        "id": "bWnNvd9Uc3_u"
      },
      "execution_count": null,
      "outputs": []
    },
    {
      "cell_type": "markdown",
      "source": [
        "#### reduce function"
      ],
      "metadata": {
        "id": "E7ruVSfIZvP8"
      }
    },
    {
      "cell_type": "code",
      "source": [
        "# reduce(function, sequence)\n",
        "from functools import reduce\n",
        "\n",
        "a = [1,2,3,4,5,6,12]\n",
        "\n",
        "product = reduce(lambda x, y : x * y, a)\n",
        "print(product)"
      ],
      "metadata": {
        "colab": {
          "base_uri": "https://localhost:8080/"
        },
        "id": "Vok_MiEzZxMS",
        "outputId": "9accd674-4da9-4037-f3df-201ca628640f"
      },
      "execution_count": null,
      "outputs": [
        {
          "output_type": "stream",
          "name": "stdout",
          "text": [
            "8640\n"
          ]
        }
      ]
    }
  ]
}